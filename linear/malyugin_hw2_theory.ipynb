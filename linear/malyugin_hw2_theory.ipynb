{
 "cells": [
  {
   "cell_type": "markdown",
   "metadata": {},
   "source": [
    "Задача 3:\n",
    "$$Q(w) = (Xw - y)^T(Xw - y)$$\n",
    "$$Q'(w) = (Xw - y)^TX + X^T(Xw - y)$$\n",
    "$$Q''(w) = 2X^TX\\ -\\ положительно\\ определена\\ в\\ силу\\ условий\\ на\\ X$$"
   ]
  },
  {
   "cell_type": "markdown",
   "metadata": {},
   "source": [
    "Задача 4:\n",
    "$$E(L | x_i) = -p(y_i = 1 |x_i ) \\log a(x_i)  - p(y_i = 0 | x_i) \\log( 1 - a(x_i))$$\n",
    "$$\\frac{\\partial E(L | x_i)}{\\partial a(x_i)} = \\frac{-p(y_i = 1 |x_i )}{a(x_i)} + \\frac{p(y_i = 0 | x_i)}{1 - a(x_i)} = \\frac{-p(y_i = 1 |x_i ) + p(y_i = 1 |x_i )a(x_i) + p(y_i = 0 |x_i )a(x_i)}{a(x_i)(1 - a(x_i))} = $$\n",
    "$$ = \\frac{-p(y_i = 1 |x_i ) + a(x_i)}{a(x_i)(1 - a(x_i))}$$\n",
    "$$\\rightarrow a(x_i) = p(y_i = 1 |x_i )$$"
   ]
  },
  {
   "cell_type": "code",
   "execution_count": null,
   "metadata": {},
   "outputs": [],
   "source": []
  }
 ],
 "metadata": {
  "kernelspec": {
   "display_name": "Python 3",
   "language": "python",
   "name": "python3"
  },
  "language_info": {
   "codemirror_mode": {
    "name": "ipython",
    "version": 3
   },
   "file_extension": ".py",
   "mimetype": "text/x-python",
   "name": "python",
   "nbconvert_exporter": "python",
   "pygments_lexer": "ipython3",
   "version": "3.6.7"
  }
 },
 "nbformat": 4,
 "nbformat_minor": 2
}
