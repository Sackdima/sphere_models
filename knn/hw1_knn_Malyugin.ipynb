{
 "cells": [
  {
   "cell_type": "markdown",
   "metadata": {},
   "source": [
    "**Общая информация**\n",
    "\n",
    "**Срок сдачи:** 20 марта 2019, 06:00 <br\\>\n",
    "**Штраф за опоздание:** -1 балл после 06:00 20 марта, -2 балла после 06:00 27 марта, -3 балла после 06:00 3 апреля\n",
    "-4 балла после 06:00 10 апреля\n",
    "\n",
    "При отправлении ДЗ указывайте фамилию в названии файла\n",
    "Присылать ДЗ необходимо в виде ссылки на свой github репозиторий в slack @alkhamush\n",
    "\n",
    "Необходимо в slack скинуть ссылку в личный чат @alkhamush\n",
    "Пример ссылки:\n",
    "https://github.com/stroykova/spheremailru/stroykova_hw1.ipynb \n",
    "\n",
    "\n",
    "Используйте данный Ipython Notebook при оформлении домашнего задания."
   ]
  },
  {
   "cell_type": "markdown",
   "metadata": {},
   "source": [
    "##### Задание 1 (2 баллов)\n",
    "Реализовать KNN в классе MyKNeighborsClassifier (обязательное условие: точность не ниже sklearn реализации)\n",
    "Разберитесь самостоятельно, какая мера расстояния используется в KNeighborsClassifier дефолтно и реализуйте свой алгоритм именно с этой мерой. Самостоятельно разберитесь, как считается score из KNeighborsClassifier и реализуйте аналог в своём классе. Score не должен уступать значению KNN из sklearn\n",
    "\n",
    "###### Задание 2 (2 балла)\n",
    "Добиться скорости работы на fit,  predict и predict_proba сравнимой со sklearn для iris и mnist\n",
    "Для этого используем numpy\n",
    "\n",
    "###### Задание 3 (2 балла)\n",
    "Для iris найдите такой параметр n_neighbors, при котором выдаётся наилучший score. Нарисуйте график зависимости score от n_neighbors\n",
    "\n",
    "###### Задание 4 (3 балла)\n",
    "Добавить algorithm='kd_tree' в реализацию KNN (использовать KDTree из sklearn.neighbors). Добиться скорости работы на fit,  predict и predict_proba сравнимой со sklearn для iris и mnist\n",
    "Для этого используем numpy. Score не должен уступать значению KNN из sklearn\n",
    "\n",
    "###### Задание 5 (1 балла)\n",
    "Описать для чего нужны следующие библиотеки/классы/функции (список будет ниже)\n",
    "\n",
    "**Штрафные баллы:**\n",
    "\n",
    "1. Невыполнение PEP8 -0.5 баллов\n",
    "2. Отсутствие фамилии в имени скрипта (скрипт должен называться по аналогии со stroykova_hw1.ipynb) -0.5 баллов\n",
    "3. Все строчки должны быть выполнены. Нужно, чтобы output команды можно было увидеть уже в git'е. В противном случае -0.5 баллов\n",
    "4. При оформлении ДЗ нужно пользоваться данным файлом в качестве шаблона. Не нужно удалять и видоизменять структуру кода и текст. В противном случае -0.5 баллов\n"
   ]
  },
  {
   "cell_type": "code",
   "execution_count": 1,
   "metadata": {},
   "outputs": [],
   "source": [
    "import numpy as np\n",
    "import matplotlib.pyplot as plt\n",
    "\n",
    "import seaborn as sns\n",
    "from sklearn import datasets\n",
    "from sklearn.base import ClassifierMixin\n",
    "from sklearn.datasets import fetch_mldata, fetch_openml\n",
    "from sklearn.neighbors.base import NeighborsBase, KNeighborsMixin, SupervisedIntegerMixin \n",
    "from sklearn.model_selection import train_test_split\n",
    "from sklearn.neighbors import KNeighborsClassifier, KDTree\n",
    "from scipy.spatial import distance_matrix\n",
    "%load_ext pycodestyle_magic"
   ]
  },
  {
   "cell_type": "code",
   "execution_count": 3,
   "metadata": {},
   "outputs": [],
   "source": [
    "\n",
    "\n",
    "class MyKNeighborsClassifier(NeighborsBase, KNeighborsMixin,\n",
    "                             SupervisedIntegerMixin, ClassifierMixin):\n",
    "\n",
    "    def __init__(self, n_neighbors, algorithm='brute'):\n",
    "        self.n_neighbors = n_neighbors\n",
    "        self.algorithm = algorithm\n",
    "        self.leaf_size = 30\n",
    "\n",
    "    def fit(self, X, y):\n",
    "        self._y = y\n",
    "        self.classes = np.unique(y)\n",
    "        if self.algorithm == 'brute':\n",
    "            self._fit_X = X\n",
    "        elif self.algorithm == 'kd_tree':\n",
    "            self._tree = KDTree(X, leaf_size=self.leaf_size)\n",
    "        return self\n",
    "\n",
    "    def predict(self, X):\n",
    "        n_neighbors = self.n_neighbors\n",
    "        _y = self._y\n",
    "        if self.algorithm == 'brute':\n",
    "            _fit_X = self._fit_X\n",
    "            distances = distance_matrix(X, _fit_X)\n",
    "        elif self.algorithm == 'kd_tree':\n",
    "            distances, ind = self._tree.query(X, n_neighbors)\n",
    "        args = np.argsort(distances)[:, :n_neighbors]\n",
    "        k_neighbors = _y[args]\n",
    "        classes, count = np.unique(k_neighbors, return_counts=True, axis=1)\n",
    "        return classes[:, np.argmax(count, axis=-1)]\n",
    "\n",
    "    def predict_proba(self, X):\n",
    "        n_neighbors = self.n_neighbors\n",
    "        _y = self._y\n",
    "        n_samples = X.shape[0]\n",
    "        n_classes = self.classes\n",
    "        if self.algorithm == 'brute':\n",
    "            _fit_X = self._fit_X\n",
    "            distances = distance_matrix(X, _fit_X)\n",
    "        elif self.algorithm == 'kd_tree':\n",
    "            distances, _ = self._tree.query(X, n_neighbors)\n",
    "\n",
    "        args = np.argsort(distances)[:, :n_neighbors]\n",
    "        k_neighbors = _y[args]\n",
    "        classes, count = np.unique(k_neighbors, return_counts=True, axis=1)\n",
    "        res = np.zeros((n_samples, self.classes.shape[0]))\n",
    "        for i in range(n_samples):\n",
    "            for k, k_class in enumerate(n_classes):\n",
    "                res[i, k] += np.sum(k_neighbors[i] == k_class)\n",
    "        res /= self.n_neighbors\n",
    "\n",
    "        return res\n",
    "\n",
    "    def score(self, X, y):\n",
    "        predicted = self.predict(X)\n",
    "        return np.mean(predicted == y)\n"
   ]
  },
  {
   "cell_type": "markdown",
   "metadata": {},
   "source": [
    "**IRIS**"
   ]
  },
  {
   "cell_type": "code",
   "execution_count": 4,
   "metadata": {},
   "outputs": [],
   "source": [
    "iris = datasets.load_iris()"
   ]
  },
  {
   "cell_type": "code",
   "execution_count": 5,
   "metadata": {},
   "outputs": [],
   "source": [
    "X_train, X_test, y_train, y_test = train_test_split(iris.data, iris.target, test_size=0.1, stratify=iris.target)"
   ]
  },
  {
   "cell_type": "code",
   "execution_count": 6,
   "metadata": {},
   "outputs": [],
   "source": [
    "clf = KNeighborsClassifier(n_neighbors=2, algorithm='brute')\n",
    "my_clf = MyKNeighborsClassifier(n_neighbors=2, algorithm='brute')"
   ]
  },
  {
   "cell_type": "code",
   "execution_count": 7,
   "metadata": {},
   "outputs": [
    {
     "name": "stdout",
     "output_type": "stream",
     "text": [
      "CPU times: user 1.33 ms, sys: 1 ms, total: 2.33 ms\n",
      "Wall time: 1.69 ms\n"
     ]
    },
    {
     "data": {
      "text/plain": [
       "KNeighborsClassifier(algorithm='brute', leaf_size=30, metric='minkowski',\n",
       "           metric_params=None, n_jobs=None, n_neighbors=2, p=2,\n",
       "           weights='uniform')"
      ]
     },
     "execution_count": 7,
     "metadata": {},
     "output_type": "execute_result"
    }
   ],
   "source": [
    "%time clf.fit(X_train, y_train)"
   ]
  },
  {
   "cell_type": "code",
   "execution_count": 8,
   "metadata": {},
   "outputs": [
    {
     "name": "stdout",
     "output_type": "stream",
     "text": [
      "CPU times: user 27 µs, sys: 20 µs, total: 47 µs\n",
      "Wall time: 48.6 µs\n"
     ]
    },
    {
     "data": {
      "text/plain": [
       "MyKNeighborsClassifier(algorithm='brute', n_neighbors=2)"
      ]
     },
     "execution_count": 8,
     "metadata": {},
     "output_type": "execute_result"
    }
   ],
   "source": [
    "%time my_clf.fit(X_train, y_train)"
   ]
  },
  {
   "cell_type": "code",
   "execution_count": 9,
   "metadata": {},
   "outputs": [
    {
     "name": "stdout",
     "output_type": "stream",
     "text": [
      "CPU times: user 3.35 ms, sys: 17 µs, total: 3.37 ms\n",
      "Wall time: 2.29 ms\n"
     ]
    },
    {
     "data": {
      "text/plain": [
       "array([1, 0, 2, 0, 0, 0, 2, 0, 2, 2, 1, 1, 1, 1, 1])"
      ]
     },
     "execution_count": 9,
     "metadata": {},
     "output_type": "execute_result"
    }
   ],
   "source": [
    "%time clf.predict(X_test)"
   ]
  },
  {
   "cell_type": "code",
   "execution_count": 10,
   "metadata": {},
   "outputs": [
    {
     "name": "stdout",
     "output_type": "stream",
     "text": [
      "CPU times: user 1.69 ms, sys: 260 µs, total: 1.95 ms\n",
      "Wall time: 1.08 ms\n"
     ]
    },
    {
     "data": {
      "text/plain": [
       "array([1, 0, 2, 0, 0, 0, 2, 0, 2, 2, 1, 1, 1, 1, 1])"
      ]
     },
     "execution_count": 10,
     "metadata": {},
     "output_type": "execute_result"
    }
   ],
   "source": [
    "%time my_clf.predict(X_test)"
   ]
  },
  {
   "cell_type": "code",
   "execution_count": 11,
   "metadata": {},
   "outputs": [
    {
     "name": "stdout",
     "output_type": "stream",
     "text": [
      "CPU times: user 0 ns, sys: 1.14 ms, total: 1.14 ms\n",
      "Wall time: 756 µs\n"
     ]
    },
    {
     "data": {
      "text/plain": [
       "array([[0. , 1. , 0. ],\n",
       "       [1. , 0. , 0. ],\n",
       "       [0. , 0. , 1. ],\n",
       "       [1. , 0. , 0. ],\n",
       "       [1. , 0. , 0. ],\n",
       "       [1. , 0. , 0. ],\n",
       "       [0. , 0. , 1. ],\n",
       "       [1. , 0. , 0. ],\n",
       "       [0. , 0. , 1. ],\n",
       "       [0. , 0. , 1. ],\n",
       "       [0. , 1. , 0. ],\n",
       "       [0. , 1. , 0. ],\n",
       "       [0. , 1. , 0. ],\n",
       "       [0. , 1. , 0. ],\n",
       "       [0. , 0.5, 0.5]])"
      ]
     },
     "execution_count": 11,
     "metadata": {},
     "output_type": "execute_result"
    }
   ],
   "source": [
    "%time clf.predict_proba(X_test)"
   ]
  },
  {
   "cell_type": "code",
   "execution_count": 12,
   "metadata": {},
   "outputs": [
    {
     "name": "stdout",
     "output_type": "stream",
     "text": [
      "CPU times: user 994 µs, sys: 727 µs, total: 1.72 ms\n",
      "Wall time: 1.04 ms\n"
     ]
    },
    {
     "data": {
      "text/plain": [
       "array([[0. , 1. , 0. ],\n",
       "       [1. , 0. , 0. ],\n",
       "       [0. , 0. , 1. ],\n",
       "       [1. , 0. , 0. ],\n",
       "       [1. , 0. , 0. ],\n",
       "       [1. , 0. , 0. ],\n",
       "       [0. , 0. , 1. ],\n",
       "       [1. , 0. , 0. ],\n",
       "       [0. , 0. , 1. ],\n",
       "       [0. , 0. , 1. ],\n",
       "       [0. , 1. , 0. ],\n",
       "       [0. , 1. , 0. ],\n",
       "       [0. , 1. , 0. ],\n",
       "       [0. , 1. , 0. ],\n",
       "       [0. , 0.5, 0.5]])"
      ]
     },
     "execution_count": 12,
     "metadata": {},
     "output_type": "execute_result"
    }
   ],
   "source": [
    "%time my_clf.predict_proba(X_test)"
   ]
  },
  {
   "cell_type": "code",
   "execution_count": 13,
   "metadata": {},
   "outputs": [
    {
     "data": {
      "text/plain": [
       "0.9333333333333333"
      ]
     },
     "execution_count": 13,
     "metadata": {},
     "output_type": "execute_result"
    }
   ],
   "source": [
    "clf.score(X_test, y_test)"
   ]
  },
  {
   "cell_type": "code",
   "execution_count": 14,
   "metadata": {},
   "outputs": [
    {
     "data": {
      "text/plain": [
       "0.9333333333333333"
      ]
     },
     "execution_count": 14,
     "metadata": {},
     "output_type": "execute_result"
    }
   ],
   "source": [
    "my_clf.score(X_test, y_test)"
   ]
  },
  {
   "cell_type": "markdown",
   "metadata": {},
   "source": [
    "Задание 3"
   ]
  },
  {
   "cell_type": "code",
   "execution_count": 15,
   "metadata": {},
   "outputs": [
    {
     "data": {
      "image/png": "[encoded data removed]",
      "text/plain": [
       "<Figure size 1440x720 with 1 Axes>"
      ]
     },
     "metadata": {
      "needs_background": "light"
     },
     "output_type": "display_data"
    },
    {
     "name": "stdout",
     "output_type": "stream",
     "text": [
      "10\n"
     ]
    }
   ],
   "source": [
    "\n",
    "\n",
    "iris = datasets.load_iris()\n",
    "loops = 50\n",
    "max_neighbors = 50\n",
    "min_neighbors = 1\n",
    "scores = np.zeros((max_neighbors))\n",
    "\n",
    "for i in range(min_neighbors, max_neighbors):\n",
    "    my_clf = MyKNeighborsClassifier(n_neighbors=i, algorithm='brute')\n",
    "    for j in range(loops):\n",
    "        X_train, X_test, y_train, y_test = train_test_split(iris.data, iris.target, test_size=0.1, stratify=iris.target)\n",
    "        my_clf.fit(X_train, y_train)\n",
    "        scores[i] += my_clf.score(X_test, y_test)\n",
    "    scores[i] /= loops\n",
    "    \n",
    "fig = plt.figure(figsize=(20, 10))\n",
    "ax1 = fig.add_subplot(111)\n",
    "ax1.set_ylim(0.3, 1)\n",
    "plt.plot(np.arange(min_neighbors, max_neighbors), scores[min_neighbors:])\n",
    "plt.show()\n",
    "\n",
    "print(np.argmax(scores))"
   ]
  },
  {
   "cell_type": "markdown",
   "metadata": {},
   "source": [
    "**MNIST**"
   ]
  },
  {
   "cell_type": "code",
   "execution_count": 16,
   "metadata": {},
   "outputs": [],
   "source": [
    "mnist = fetch_openml('mnist_784')\n",
    "#mnist = fetch_mldata('MNIST original')"
   ]
  },
  {
   "cell_type": "code",
   "execution_count": 17,
   "metadata": {},
   "outputs": [],
   "source": [
    "X_train, X_test, y_train, y_test = train_test_split(mnist.data, mnist.target, test_size=0.01, stratify=mnist.target)\n",
    "y_train = y_train.astype(int)\n",
    "y_test = y_test.astype(int)"
   ]
  },
  {
   "cell_type": "code",
   "execution_count": 17,
   "metadata": {},
   "outputs": [],
   "source": [
    "clf = KNeighborsClassifier(n_neighbors=2, algorithm='brute')\n",
    "my_clf = MyKNeighborsClassifier(n_neighbors=2, algorithm='brute')"
   ]
  },
  {
   "cell_type": "code",
   "execution_count": 18,
   "metadata": {},
   "outputs": [
    {
     "name": "stdout",
     "output_type": "stream",
     "text": [
      "CPU times: user 58 ms, sys: 207 µs, total: 58.2 ms\n",
      "Wall time: 57.6 ms\n"
     ]
    },
    {
     "data": {
      "text/plain": [
       "KNeighborsClassifier(algorithm='brute', leaf_size=30, metric='minkowski',\n",
       "           metric_params=None, n_jobs=None, n_neighbors=2, p=2,\n",
       "           weights='uniform')"
      ]
     },
     "execution_count": 18,
     "metadata": {},
     "output_type": "execute_result"
    }
   ],
   "source": [
    "%time clf.fit(X_train, y_train)"
   ]
  },
  {
   "cell_type": "code",
   "execution_count": 19,
   "metadata": {},
   "outputs": [
    {
     "name": "stdout",
     "output_type": "stream",
     "text": [
      "CPU times: user 2.63 ms, sys: 362 µs, total: 2.99 ms\n",
      "Wall time: 2.04 ms\n"
     ]
    },
    {
     "data": {
      "text/plain": [
       "MyKNeighborsClassifier(algorithm='brute', n_neighbors=2)"
      ]
     },
     "execution_count": 19,
     "metadata": {},
     "output_type": "execute_result"
    }
   ],
   "source": [
    "%time my_clf.fit(X_train, y_train)"
   ]
  },
  {
   "cell_type": "code",
   "execution_count": 20,
   "metadata": {
    "scrolled": false
   },
   "outputs": [
    {
     "name": "stdout",
     "output_type": "stream",
     "text": [
      "CPU times: user 6.83 s, sys: 1.61 s, total: 8.44 s\n",
      "Wall time: 1.6 s\n"
     ]
    },
    {
     "data": {
      "text/plain": [
       "array([8, 0, 7, 3, 2, 3, 4, 3, 3, 7, 5, 9, 6, 4, 3, 3, 7, 2, 6, 6, 0, 4,\n",
       "       6, 3, 1, 5, 6, 4, 1, 5, 0, 9, 9, 9, 1, 9, 8, 0, 4, 1, 8, 2, 1, 0,\n",
       "       8, 5, 2, 2, 1, 5, 8, 2, 5, 6, 0, 9, 1, 8, 6, 7, 2, 5, 7, 6, 5, 7,\n",
       "       1, 9, 2, 6, 5, 1, 8, 1, 1, 5, 3, 9, 4, 8, 9, 1, 1, 8, 7, 2, 2, 5,\n",
       "       6, 2, 3, 0, 1, 0, 2, 0, 3, 7, 1, 4, 7, 3, 1, 7, 7, 1, 4, 6, 1, 5,\n",
       "       6, 7, 9, 5, 9, 0, 2, 0, 4, 1, 7, 7, 9, 4, 5, 7, 5, 3, 5, 9, 5, 0,\n",
       "       9, 5, 4, 0, 8, 5, 1, 2, 1, 6, 3, 6, 5, 9, 8, 5, 1, 1, 9, 9, 7, 2,\n",
       "       9, 2, 3, 7, 3, 7, 9, 1, 2, 2, 0, 1, 5, 3, 2, 3, 8, 2, 5, 7, 8, 7,\n",
       "       9, 1, 4, 6, 9, 3, 4, 4, 5, 7, 6, 8, 8, 8, 2, 5, 0, 0, 5, 1, 0, 4,\n",
       "       4, 3, 1, 0, 1, 2, 9, 4, 8, 5, 3, 7, 4, 3, 7, 0, 7, 5, 7, 4, 1, 1,\n",
       "       6, 0, 3, 9, 7, 9, 7, 5, 4, 7, 1, 8, 2, 5, 1, 4, 2, 0, 3, 2, 2, 3,\n",
       "       2, 1, 7, 7, 2, 8, 5, 6, 6, 9, 2, 4, 2, 3, 4, 3, 0, 8, 0, 1, 4, 1,\n",
       "       8, 1, 3, 4, 5, 7, 6, 0, 2, 2, 4, 3, 4, 6, 1, 0, 6, 0, 4, 4, 4, 0,\n",
       "       6, 9, 5, 7, 5, 1, 2, 9, 6, 8, 2, 5, 3, 2, 6, 1, 7, 3, 6, 3, 1, 4,\n",
       "       2, 5, 1, 6, 1, 7, 1, 6, 5, 8, 4, 3, 1, 9, 4, 3, 1, 1, 8, 9, 6, 9,\n",
       "       7, 4, 9, 0, 0, 9, 5, 6, 8, 5, 3, 7, 2, 8, 9, 5, 3, 3, 6, 8, 2, 3,\n",
       "       4, 7, 4, 0, 1, 9, 1, 1, 2, 2, 6, 9, 6, 0, 9, 2, 4, 6, 3, 3, 2, 0,\n",
       "       7, 2, 8, 8, 8, 6, 7, 5, 4, 9, 2, 7, 3, 2, 5, 2, 6, 4, 0, 4, 9, 2,\n",
       "       1, 6, 7, 0, 4, 8, 6, 7, 4, 9, 8, 9, 1, 8, 8, 7, 2, 0, 5, 8, 0, 1,\n",
       "       9, 7, 0, 1, 1, 3, 0, 6, 4, 5, 3, 0, 5, 9, 3, 8, 2, 1, 7, 4, 2, 7,\n",
       "       0, 6, 0, 2, 3, 4, 6, 8, 4, 6, 0, 6, 9, 1, 3, 9, 8, 7, 6, 0, 7, 5,\n",
       "       6, 8, 0, 3, 1, 9, 4, 5, 0, 7, 1, 3, 9, 3, 3, 1, 2, 5, 0, 4, 6, 9,\n",
       "       3, 2, 4, 9, 8, 8, 6, 0, 8, 8, 0, 5, 3, 3, 9, 9, 9, 3, 2, 4, 3, 6,\n",
       "       2, 2, 0, 8, 8, 2, 7, 3, 8, 2, 8, 4, 4, 0, 9, 5, 0, 4, 8, 1, 0, 7,\n",
       "       6, 4, 2, 3, 9, 3, 9, 2, 1, 5, 0, 7, 9, 4, 1, 6, 8, 6, 7, 9, 8, 6,\n",
       "       7, 5, 5, 7, 1, 0, 6, 7, 7, 0, 3, 9, 9, 4, 3, 7, 4, 7, 6, 8, 8, 3,\n",
       "       5, 0, 2, 8, 0, 3, 1, 1, 8, 8, 1, 1, 0, 1, 6, 8, 3, 0, 7, 7, 6, 1,\n",
       "       0, 9, 8, 1, 8, 2, 7, 9, 6, 3, 1, 7, 2, 3, 9, 6, 1, 6, 2, 9, 0, 4,\n",
       "       3, 5, 7, 7, 4, 5, 0, 5, 7, 4, 6, 6, 3, 0, 7, 5, 4, 8, 0, 1, 0, 0,\n",
       "       3, 3, 5, 4, 7, 8, 7, 2, 0, 7, 3, 6, 8, 5, 1, 6, 6, 4, 1, 4, 1, 9,\n",
       "       8, 8, 7, 4, 3, 0, 7, 6, 1, 3, 2, 2, 2, 6, 2, 0, 7, 0, 4, 7, 3, 4,\n",
       "       7, 8, 4, 1, 4, 2, 0, 5, 5, 7, 3, 4, 1, 3, 3, 5, 6, 7])"
      ]
     },
     "execution_count": 20,
     "metadata": {},
     "output_type": "execute_result"
    }
   ],
   "source": [
    "%time clf.predict(X_test)"
   ]
  },
  {
   "cell_type": "code",
   "execution_count": 21,
   "metadata": {},
   "outputs": [
    {
     "name": "stdout",
     "output_type": "stream",
     "text": [
      "CPU times: user 2min 12s, sys: 2min 21s, total: 4min 33s\n",
      "Wall time: 4min 33s\n"
     ]
    },
    {
     "data": {
      "text/plain": [
       "array([8, 0, 7, 3, 2, 3, 4, 3, 3, 7, 5, 9, 6, 4, 3, 3, 7, 2, 6, 6, 0, 4,\n",
       "       6, 3, 1, 5, 6, 4, 1, 5, 0, 9, 9, 9, 1, 9, 8, 0, 4, 1, 8, 2, 1, 0,\n",
       "       8, 5, 2, 2, 1, 5, 8, 2, 5, 6, 0, 9, 1, 8, 6, 7, 2, 5, 7, 6, 5, 7,\n",
       "       1, 9, 2, 6, 5, 1, 8, 1, 1, 5, 3, 9, 4, 8, 9, 1, 1, 8, 7, 2, 2, 5,\n",
       "       6, 2, 3, 0, 1, 0, 2, 0, 3, 7, 1, 4, 7, 3, 1, 7, 7, 1, 4, 6, 1, 5,\n",
       "       6, 7, 9, 5, 9, 0, 2, 0, 4, 1, 7, 7, 9, 4, 5, 7, 5, 3, 5, 9, 5, 0,\n",
       "       9, 5, 4, 0, 8, 5, 1, 2, 1, 6, 3, 6, 5, 9, 8, 5, 1, 1, 9, 9, 7, 2,\n",
       "       9, 2, 3, 7, 3, 7, 9, 1, 2, 2, 0, 1, 5, 5, 2, 3, 8, 2, 6, 7, 8, 7,\n",
       "       9, 1, 4, 6, 9, 3, 4, 4, 5, 7, 6, 8, 8, 8, 2, 5, 0, 0, 5, 1, 0, 4,\n",
       "       4, 3, 1, 0, 1, 2, 9, 4, 8, 5, 3, 7, 4, 3, 7, 0, 7, 5, 9, 4, 1, 1,\n",
       "       6, 0, 3, 9, 7, 9, 7, 5, 4, 7, 1, 8, 2, 5, 1, 4, 2, 0, 3, 2, 2, 3,\n",
       "       7, 1, 7, 7, 2, 8, 5, 6, 6, 9, 2, 4, 2, 3, 4, 3, 0, 8, 0, 1, 4, 1,\n",
       "       8, 1, 3, 4, 5, 7, 6, 0, 2, 2, 4, 3, 4, 6, 1, 0, 6, 0, 4, 4, 4, 0,\n",
       "       6, 9, 5, 7, 5, 1, 2, 9, 6, 8, 2, 5, 3, 2, 6, 1, 7, 3, 6, 3, 1, 4,\n",
       "       2, 5, 1, 6, 1, 7, 1, 6, 5, 8, 4, 3, 1, 9, 4, 3, 1, 1, 8, 9, 6, 9,\n",
       "       9, 4, 9, 0, 0, 9, 5, 6, 8, 5, 3, 7, 2, 8, 9, 5, 3, 3, 6, 8, 2, 3,\n",
       "       4, 7, 4, 0, 1, 9, 1, 1, 2, 2, 6, 9, 6, 0, 9, 2, 4, 6, 3, 3, 2, 0,\n",
       "       7, 2, 8, 8, 8, 6, 7, 5, 4, 9, 2, 7, 3, 2, 5, 2, 6, 4, 0, 4, 9, 2,\n",
       "       1, 6, 7, 0, 4, 8, 6, 7, 4, 9, 8, 9, 1, 8, 8, 7, 2, 0, 5, 8, 0, 1,\n",
       "       9, 7, 0, 1, 1, 3, 0, 6, 4, 5, 3, 0, 5, 9, 3, 8, 2, 1, 7, 4, 2, 7,\n",
       "       0, 6, 0, 2, 3, 4, 6, 8, 8, 6, 0, 6, 9, 1, 3, 9, 8, 7, 6, 0, 7, 5,\n",
       "       6, 8, 0, 3, 1, 9, 4, 5, 0, 7, 1, 3, 9, 3, 3, 1, 2, 5, 0, 4, 6, 9,\n",
       "       3, 2, 4, 9, 8, 8, 6, 0, 8, 8, 0, 5, 3, 3, 9, 9, 9, 3, 2, 4, 3, 6,\n",
       "       2, 2, 0, 8, 8, 2, 7, 3, 8, 2, 8, 4, 9, 0, 9, 5, 0, 4, 8, 1, 0, 7,\n",
       "       6, 4, 2, 3, 9, 3, 9, 2, 1, 5, 0, 7, 9, 4, 1, 6, 8, 6, 7, 9, 8, 6,\n",
       "       7, 5, 5, 7, 1, 0, 6, 7, 7, 0, 3, 9, 9, 4, 3, 7, 4, 7, 6, 8, 8, 3,\n",
       "       5, 0, 2, 8, 0, 3, 1, 1, 8, 8, 1, 1, 0, 1, 6, 8, 3, 0, 7, 7, 6, 1,\n",
       "       0, 9, 8, 1, 8, 2, 7, 9, 6, 3, 1, 7, 2, 3, 9, 6, 1, 6, 2, 9, 0, 4,\n",
       "       3, 5, 7, 7, 4, 5, 0, 5, 7, 4, 6, 6, 3, 0, 7, 5, 4, 8, 0, 1, 0, 0,\n",
       "       3, 3, 5, 4, 7, 8, 7, 2, 0, 7, 3, 6, 9, 5, 1, 6, 6, 4, 1, 4, 1, 9,\n",
       "       8, 8, 7, 4, 3, 0, 7, 6, 1, 3, 2, 2, 2, 6, 2, 0, 7, 0, 4, 7, 3, 4,\n",
       "       7, 8, 4, 1, 4, 2, 0, 5, 5, 7, 3, 4, 1, 3, 3, 5, 6, 7])"
      ]
     },
     "execution_count": 21,
     "metadata": {},
     "output_type": "execute_result"
    }
   ],
   "source": [
    "%time my_clf.predict(X_test)"
   ]
  },
  {
   "cell_type": "code",
   "execution_count": 22,
   "metadata": {},
   "outputs": [
    {
     "name": "stdout",
     "output_type": "stream",
     "text": [
      "CPU times: user 6.65 s, sys: 1.75 s, total: 8.4 s\n",
      "Wall time: 1.6 s\n"
     ]
    },
    {
     "data": {
      "text/plain": [
       "array([[0. , 0. , 0. , ..., 0. , 1. , 0. ],\n",
       "       [0.5, 0. , 0.5, ..., 0. , 0. , 0. ],\n",
       "       [0. , 0. , 0. , ..., 1. , 0. , 0. ],\n",
       "       ...,\n",
       "       [0. , 0. , 0. , ..., 0. , 0. , 0. ],\n",
       "       [0. , 0. , 0. , ..., 0. , 0. , 0. ],\n",
       "       [0. , 0. , 0. , ..., 1. , 0. , 0. ]])"
      ]
     },
     "execution_count": 22,
     "metadata": {},
     "output_type": "execute_result"
    }
   ],
   "source": [
    "%time clf.predict_proba(X_test)"
   ]
  },
  {
   "cell_type": "code",
   "execution_count": 23,
   "metadata": {},
   "outputs": [
    {
     "name": "stdout",
     "output_type": "stream",
     "text": [
      "CPU times: user 4min 18s, sys: 4min 46s, total: 9min 4s\n",
      "Wall time: 9min 5s\n"
     ]
    },
    {
     "data": {
      "text/plain": [
       "array([[0. , 0. , 0. , ..., 0. , 1. , 0. ],\n",
       "       [0.5, 0. , 0.5, ..., 0. , 0. , 0. ],\n",
       "       [0. , 0. , 0. , ..., 1. , 0. , 0. ],\n",
       "       ...,\n",
       "       [0. , 0. , 0. , ..., 0. , 0. , 0. ],\n",
       "       [0. , 0. , 0. , ..., 0. , 0. , 0. ],\n",
       "       [0. , 0. , 0. , ..., 1. , 0. , 0. ]])"
      ]
     },
     "execution_count": 23,
     "metadata": {},
     "output_type": "execute_result"
    }
   ],
   "source": [
    "%time my_clf.predict_proba(X_test)"
   ]
  },
  {
   "cell_type": "code",
   "execution_count": 24,
   "metadata": {},
   "outputs": [
    {
     "data": {
      "text/plain": [
       "0.9642857142857143"
      ]
     },
     "execution_count": 24,
     "metadata": {},
     "output_type": "execute_result"
    }
   ],
   "source": [
    "clf.score(X_test, y_test)"
   ]
  },
  {
   "cell_type": "code",
   "execution_count": 25,
   "metadata": {},
   "outputs": [
    {
     "data": {
      "text/plain": [
       "0.97"
      ]
     },
     "execution_count": 25,
     "metadata": {},
     "output_type": "execute_result"
    }
   ],
   "source": [
    "my_clf.score(X_test, y_test)"
   ]
  },
  {
   "cell_type": "markdown",
   "metadata": {},
   "source": [
    "Задание 4"
   ]
  },
  {
   "cell_type": "code",
   "execution_count": 18,
   "metadata": {},
   "outputs": [],
   "source": [
    "clf = KNeighborsClassifier(n_neighbors=2, algorithm='kd_tree')\n",
    "my_clf = MyKNeighborsClassifier(n_neighbors=2, algorithm='kd_tree')"
   ]
  },
  {
   "cell_type": "code",
   "execution_count": 20,
   "metadata": {},
   "outputs": [],
   "source": [
    "X_train, X_test, y_train, y_test = train_test_split(mnist.data, mnist.target, test_size=0.01, stratify=mnist.target)\n",
    "y_train = y_train.astype(int)\n",
    "y_test = y_test.astype(int)"
   ]
  },
  {
   "cell_type": "code",
   "execution_count": 21,
   "metadata": {},
   "outputs": [
    {
     "name": "stdout",
     "output_type": "stream",
     "text": [
      "CPU times: user 17.9 s, sys: 24 ms, total: 17.9 s\n",
      "Wall time: 17.9 s\n"
     ]
    },
    {
     "data": {
      "text/plain": [
       "KNeighborsClassifier(algorithm='kd_tree', leaf_size=30, metric='minkowski',\n",
       "           metric_params=None, n_jobs=None, n_neighbors=2, p=2,\n",
       "           weights='uniform')"
      ]
     },
     "execution_count": 21,
     "metadata": {},
     "output_type": "execute_result"
    }
   ],
   "source": [
    "%time clf.fit(X_train, y_train)"
   ]
  },
  {
   "cell_type": "code",
   "execution_count": 22,
   "metadata": {},
   "outputs": [
    {
     "name": "stdout",
     "output_type": "stream",
     "text": [
      "CPU times: user 18.3 s, sys: 84.7 ms, total: 18.4 s\n",
      "Wall time: 18.4 s\n"
     ]
    },
    {
     "data": {
      "text/plain": [
       "MyKNeighborsClassifier(algorithm='kd_tree', n_neighbors=2)"
      ]
     },
     "execution_count": 22,
     "metadata": {},
     "output_type": "execute_result"
    }
   ],
   "source": [
    "%time my_clf.fit(X_train, y_train)"
   ]
  },
  {
   "cell_type": "code",
   "execution_count": 23,
   "metadata": {
    "scrolled": true
   },
   "outputs": [
    {
     "name": "stdout",
     "output_type": "stream",
     "text": [
      "CPU times: user 58.2 s, sys: 0 ns, total: 58.2 s\n",
      "Wall time: 58.2 s\n"
     ]
    },
    {
     "data": {
      "text/plain": [
       "array([2, 4, 7, 8, 3, 3, 1, 3, 0, 9, 9, 4, 8, 8, 5, 4, 7, 1, 1, 5, 6, 6,\n",
       "       7, 9, 6, 4, 6, 1, 1, 3, 4, 5, 3, 1, 6, 6, 0, 0, 8, 3, 2, 8, 5, 7,\n",
       "       6, 2, 2, 3, 7, 9, 1, 9, 1, 0, 6, 5, 8, 6, 7, 8, 7, 9, 1, 4, 5, 1,\n",
       "       2, 0, 1, 9, 8, 9, 7, 4, 4, 5, 9, 8, 2, 2, 4, 3, 9, 4, 5, 5, 6, 2,\n",
       "       3, 2, 3, 8, 9, 5, 6, 5, 0, 6, 4, 8, 3, 3, 7, 1, 5, 1, 4, 2, 4, 9,\n",
       "       2, 8, 1, 8, 0, 4, 6, 2, 8, 1, 7, 9, 1, 7, 8, 0, 2, 2, 2, 9, 4, 6,\n",
       "       1, 2, 2, 5, 1, 4, 6, 4, 3, 7, 2, 2, 2, 3, 7, 4, 4, 1, 8, 9, 6, 7,\n",
       "       4, 7, 5, 3, 1, 5, 0, 8, 0, 3, 4, 9, 4, 4, 0, 6, 2, 1, 9, 0, 1, 7,\n",
       "       2, 2, 6, 7, 4, 6, 7, 8, 8, 9, 4, 6, 4, 2, 4, 0, 7, 3, 7, 8, 1, 0,\n",
       "       5, 7, 3, 4, 2, 1, 3, 9, 3, 0, 9, 0, 1, 3, 8, 1, 0, 3, 6, 6, 0, 4,\n",
       "       4, 3, 7, 8, 1, 2, 9, 9, 3, 8, 1, 8, 3, 0, 7, 8, 1, 8, 6, 2, 5, 0,\n",
       "       5, 3, 1, 3, 8, 5, 9, 9, 8, 5, 4, 1, 4, 6, 8, 2, 7, 4, 7, 8, 3, 8,\n",
       "       1, 6, 0, 1, 3, 1, 8, 6, 6, 7, 3, 0, 1, 2, 0, 1, 6, 7, 2, 7, 2, 6,\n",
       "       1, 4, 7, 3, 9, 3, 9, 1, 6, 9, 5, 0, 5, 3, 5, 9, 3, 0, 5, 2, 2, 6,\n",
       "       6, 5, 2, 6, 4, 3, 0, 8, 2, 9, 2, 5, 6, 1, 7, 7, 9, 0, 0, 6, 3, 5,\n",
       "       7, 3, 4, 6, 0, 5, 4, 8, 3, 9, 5, 3, 1, 4, 1, 7, 7, 1, 3, 2, 7, 4,\n",
       "       1, 7, 3, 1, 1, 2, 6, 8, 6, 9, 2, 0, 2, 0, 6, 9, 5, 1, 1, 6, 9, 3,\n",
       "       7, 1, 7, 1, 8, 4, 2, 0, 4, 6, 0, 9, 5, 4, 8, 9, 6, 4, 4, 5, 1, 9,\n",
       "       7, 3, 0, 2, 9, 9, 5, 6, 2, 7, 0, 7, 2, 2, 9, 3, 5, 1, 7, 3, 5, 2,\n",
       "       4, 8, 7, 5, 5, 8, 8, 9, 6, 3, 8, 3, 4, 8, 0, 3, 5, 6, 4, 0, 4, 7,\n",
       "       5, 8, 5, 9, 1, 1, 3, 5, 6, 4, 6, 0, 8, 4, 1, 0, 1, 9, 1, 8, 9, 1,\n",
       "       3, 1, 2, 1, 4, 3, 0, 1, 4, 8, 7, 1, 3, 6, 8, 5, 3, 5, 1, 0, 3, 2,\n",
       "       0, 8, 3, 9, 3, 2, 5, 9, 5, 4, 2, 4, 8, 7, 5, 3, 5, 8, 2, 1, 4, 2,\n",
       "       7, 4, 8, 8, 0, 4, 1, 7, 4, 8, 7, 2, 3, 8, 6, 2, 7, 6, 5, 4, 6, 7,\n",
       "       2, 5, 1, 4, 1, 3, 1, 4, 2, 1, 9, 4, 8, 8, 0, 7, 9, 6, 2, 5, 6, 8,\n",
       "       7, 6, 0, 8, 4, 2, 3, 7, 1, 7, 0, 6, 1, 3, 4, 1, 2, 8, 5, 5, 6, 0,\n",
       "       0, 7, 0, 9, 6, 3, 7, 9, 0, 3, 9, 0, 6, 3, 5, 2, 9, 1, 6, 4, 9, 2,\n",
       "       5, 8, 0, 7, 5, 7, 2, 7, 2, 1, 8, 3, 9, 7, 7, 5, 2, 4, 3, 7, 2, 7,\n",
       "       0, 8, 9, 0, 4, 7, 7, 7, 0, 7, 4, 4, 8, 0, 1, 7, 5, 3, 8, 6, 1, 5,\n",
       "       0, 3, 3, 4, 1, 4, 6, 2, 0, 6, 5, 4, 0, 3, 9, 0, 3, 1, 2, 0, 7, 6,\n",
       "       2, 6, 0, 2, 3, 2, 9, 0, 7, 2, 5, 5, 1, 6, 5, 1, 7, 9, 7, 4, 9, 6,\n",
       "       6, 2, 0, 8, 7, 1, 7, 0, 6, 0, 1, 0, 1, 0, 4, 0, 4, 3])"
      ]
     },
     "execution_count": 23,
     "metadata": {},
     "output_type": "execute_result"
    }
   ],
   "source": [
    "%time clf.predict(X_test)"
   ]
  },
  {
   "cell_type": "code",
   "execution_count": 24,
   "metadata": {
    "scrolled": true
   },
   "outputs": [
    {
     "name": "stdout",
     "output_type": "stream",
     "text": [
      "CPU times: user 58.6 s, sys: 0 ns, total: 58.6 s\n",
      "Wall time: 58.7 s\n"
     ]
    },
    {
     "data": {
      "text/plain": [
       "array([0, 0, 0, 0, 0, 0, 0, 0, 0, 0, 0, 0, 0, 0, 0, 0, 0, 0, 0, 0, 0, 0,\n",
       "       0, 0, 0, 0, 0, 0, 0, 0, 0, 0, 0, 0, 0, 0, 0, 0, 0, 0, 0, 0, 0, 0,\n",
       "       0, 0, 0, 0, 0, 0, 0, 0, 0, 0, 0, 0, 0, 0, 0, 0, 0, 0, 0, 0, 0, 0,\n",
       "       0, 0, 0, 0, 0, 0, 0, 0, 0, 0, 0, 0, 0, 0, 0, 0, 0, 0, 0, 0, 0, 0,\n",
       "       0, 0, 0, 0, 0, 0, 0, 0, 0, 0, 0, 0, 0, 0, 0, 0, 0, 0, 0, 0, 0, 0,\n",
       "       0, 0, 0, 0, 0, 0, 0, 0, 0, 0, 0, 0, 0, 0, 0, 0, 0, 0, 0, 0, 0, 0,\n",
       "       0, 0, 0, 0, 0, 0, 0, 0, 0, 0, 0, 0, 0, 0, 0, 0, 0, 0, 0, 0, 0, 0,\n",
       "       0, 0, 0, 0, 0, 0, 0, 0, 0, 0, 0, 0, 0, 0, 0, 0, 0, 0, 0, 0, 0, 0,\n",
       "       0, 0, 0, 0, 0, 0, 0, 0, 0, 0, 0, 0, 0, 0, 0, 0, 0, 0, 0, 0, 0, 0,\n",
       "       0, 0, 0, 0, 0, 0, 0, 0, 0, 0, 0, 0, 0, 0, 0, 0, 0, 0, 0, 0, 0, 0,\n",
       "       0, 0, 0, 0, 0, 0, 0, 0, 0, 0, 0, 0, 0, 0, 0, 0, 0, 0, 0, 0, 0, 0,\n",
       "       0, 0, 0, 0, 0, 0, 0, 0, 0, 0, 0, 0, 0, 0, 0, 0, 0, 0, 0, 0, 0, 0,\n",
       "       0, 0, 0, 0, 0, 0, 0, 0, 0, 0, 0, 0, 0, 0, 0, 0, 0, 0, 0, 0, 0, 0,\n",
       "       0, 0, 0, 0, 0, 0, 0, 0, 0, 0, 0, 0, 0, 0, 0, 0, 0, 0, 0, 0, 0, 0,\n",
       "       0, 0, 0, 0, 0, 0, 0, 0, 0, 0, 0, 0, 0, 0, 0, 0, 0, 0, 0, 0, 0, 0,\n",
       "       0, 0, 0, 0, 0, 0, 0, 0, 0, 0, 0, 0, 0, 0, 0, 0, 0, 0, 0, 0, 0, 0,\n",
       "       0, 0, 0, 0, 0, 0, 0, 0, 0, 0, 0, 0, 0, 0, 0, 0, 0, 0, 0, 0, 0, 0,\n",
       "       0, 0, 0, 0, 0, 0, 0, 0, 0, 0, 0, 0, 0, 0, 0, 0, 0, 0, 0, 0, 0, 0,\n",
       "       0, 0, 0, 0, 0, 0, 0, 0, 0, 0, 0, 0, 0, 0, 0, 0, 0, 0, 0, 0, 0, 0,\n",
       "       0, 0, 0, 0, 0, 0, 0, 0, 0, 0, 0, 0, 0, 0, 0, 0, 0, 0, 0, 0, 0, 0,\n",
       "       0, 0, 0, 0, 0, 0, 0, 0, 0, 0, 0, 0, 0, 0, 0, 0, 0, 0, 0, 0, 0, 0,\n",
       "       0, 0, 0, 0, 0, 0, 0, 0, 0, 0, 0, 0, 0, 0, 0, 0, 0, 0, 0, 0, 0, 0,\n",
       "       0, 0, 0, 0, 0, 0, 0, 0, 0, 0, 0, 0, 0, 0, 0, 0, 0, 0, 0, 0, 0, 0,\n",
       "       0, 0, 0, 0, 0, 0, 0, 0, 0, 0, 0, 0, 0, 0, 0, 0, 0, 0, 0, 0, 0, 0,\n",
       "       0, 0, 0, 0, 0, 0, 0, 0, 0, 0, 0, 0, 0, 0, 0, 0, 0, 0, 0, 0, 0, 0,\n",
       "       0, 0, 0, 0, 0, 0, 0, 0, 0, 0, 0, 0, 0, 0, 0, 0, 0, 0, 0, 0, 0, 0,\n",
       "       0, 0, 0, 0, 0, 0, 0, 0, 0, 0, 0, 0, 0, 0, 0, 0, 0, 0, 0, 0, 0, 0,\n",
       "       0, 0, 0, 0, 0, 0, 0, 0, 0, 0, 0, 0, 0, 0, 0, 0, 0, 0, 0, 0, 0, 0,\n",
       "       0, 0, 0, 0, 0, 0, 0, 0, 0, 0, 0, 0, 0, 0, 0, 0, 0, 0, 0, 0, 0, 0,\n",
       "       0, 0, 0, 0, 0, 0, 0, 0, 0, 0, 0, 0, 0, 0, 0, 0, 0, 0, 0, 0, 0, 0,\n",
       "       0, 0, 0, 0, 0, 0, 0, 0, 0, 0, 0, 0, 0, 0, 0, 0, 0, 0, 0, 0, 0, 0,\n",
       "       0, 0, 0, 0, 0, 0, 0, 0, 0, 0, 0, 0, 0, 0, 0, 0, 0, 0])"
      ]
     },
     "execution_count": 24,
     "metadata": {},
     "output_type": "execute_result"
    }
   ],
   "source": [
    "%time my_clf.predict(X_test)"
   ]
  },
  {
   "cell_type": "code",
   "execution_count": 25,
   "metadata": {},
   "outputs": [
    {
     "name": "stdout",
     "output_type": "stream",
     "text": [
      "CPU times: user 57.8 s, sys: 0 ns, total: 57.8 s\n",
      "Wall time: 57.8 s\n"
     ]
    },
    {
     "data": {
      "text/plain": [
       "array([[0. , 0. , 1. , ..., 0. , 0. , 0. ],\n",
       "       [0. , 0. , 0. , ..., 0. , 0. , 0. ],\n",
       "       [0. , 0. , 0. , ..., 0.5, 0. , 0.5],\n",
       "       ...,\n",
       "       [0.5, 0. , 0.5, ..., 0. , 0. , 0. ],\n",
       "       [0. , 0. , 0. , ..., 0. , 0. , 0. ],\n",
       "       [0. , 0. , 0. , ..., 0. , 0. , 0. ]])"
      ]
     },
     "execution_count": 25,
     "metadata": {},
     "output_type": "execute_result"
    }
   ],
   "source": [
    "%time clf.predict_proba(X_test)"
   ]
  },
  {
   "cell_type": "code",
   "execution_count": 26,
   "metadata": {},
   "outputs": [
    {
     "name": "stdout",
     "output_type": "stream",
     "text": [
      "CPU times: user 59.1 s, sys: 2.16 ms, total: 59.1 s\n",
      "Wall time: 59.2 s\n"
     ]
    },
    {
     "data": {
      "text/plain": [
       "array([[0.5, 0.5, 0. , ..., 0. , 0. , 0. ],\n",
       "       [0.5, 0.5, 0. , ..., 0. , 0. , 0. ],\n",
       "       [0.5, 0.5, 0. , ..., 0. , 0. , 0. ],\n",
       "       ...,\n",
       "       [0.5, 0.5, 0. , ..., 0. , 0. , 0. ],\n",
       "       [0.5, 0.5, 0. , ..., 0. , 0. , 0. ],\n",
       "       [0.5, 0.5, 0. , ..., 0. , 0. , 0. ]])"
      ]
     },
     "execution_count": 26,
     "metadata": {},
     "output_type": "execute_result"
    }
   ],
   "source": [
    "%time my_clf.predict_proba(X_test)"
   ]
  },
  {
   "cell_type": "code",
   "execution_count": 27,
   "metadata": {},
   "outputs": [
    {
     "data": {
      "text/plain": [
       "0.9714285714285714"
      ]
     },
     "execution_count": 27,
     "metadata": {},
     "output_type": "execute_result"
    }
   ],
   "source": [
    "clf.score(X_test, y_test)"
   ]
  },
  {
   "cell_type": "code",
   "execution_count": 28,
   "metadata": {},
   "outputs": [
    {
     "ename": "KeyboardInterrupt",
     "evalue": "",
     "output_type": "error",
     "traceback": [
      "\u001b[0;31m---------------------------------------------------------------------------\u001b[0m",
      "\u001b[0;31mKeyboardInterrupt\u001b[0m                         Traceback (most recent call last)",
      "\u001b[0;32m<ipython-input-28-4ac12276d917>\u001b[0m in \u001b[0;36m<module>\u001b[0;34m\u001b[0m\n\u001b[0;32m----> 1\u001b[0;31m \u001b[0mmy_clf\u001b[0m\u001b[0;34m.\u001b[0m\u001b[0mscore\u001b[0m\u001b[0;34m(\u001b[0m\u001b[0mX_test\u001b[0m\u001b[0;34m,\u001b[0m \u001b[0my_test\u001b[0m\u001b[0;34m)\u001b[0m\u001b[0;34m\u001b[0m\u001b[0;34m\u001b[0m\u001b[0m\n\u001b[0m",
      "\u001b[0;32m<ipython-input-3-1ecb3c28cd07>\u001b[0m in \u001b[0;36mscore\u001b[0;34m(self, X, y)\u001b[0m\n\u001b[1;32m     54\u001b[0m \u001b[0;34m\u001b[0m\u001b[0m\n\u001b[1;32m     55\u001b[0m     \u001b[0;32mdef\u001b[0m \u001b[0mscore\u001b[0m\u001b[0;34m(\u001b[0m\u001b[0mself\u001b[0m\u001b[0;34m,\u001b[0m \u001b[0mX\u001b[0m\u001b[0;34m,\u001b[0m \u001b[0my\u001b[0m\u001b[0;34m)\u001b[0m\u001b[0;34m:\u001b[0m\u001b[0;34m\u001b[0m\u001b[0;34m\u001b[0m\u001b[0m\n\u001b[0;32m---> 56\u001b[0;31m         \u001b[0mpredicted\u001b[0m \u001b[0;34m=\u001b[0m \u001b[0mself\u001b[0m\u001b[0;34m.\u001b[0m\u001b[0mpredict\u001b[0m\u001b[0;34m(\u001b[0m\u001b[0mX\u001b[0m\u001b[0;34m)\u001b[0m\u001b[0;34m\u001b[0m\u001b[0;34m\u001b[0m\u001b[0m\n\u001b[0m\u001b[1;32m     57\u001b[0m         \u001b[0;32mreturn\u001b[0m \u001b[0mnp\u001b[0m\u001b[0;34m.\u001b[0m\u001b[0mmean\u001b[0m\u001b[0;34m(\u001b[0m\u001b[0mpredicted\u001b[0m \u001b[0;34m==\u001b[0m \u001b[0my\u001b[0m\u001b[0;34m)\u001b[0m\u001b[0;34m\u001b[0m\u001b[0;34m\u001b[0m\u001b[0m\n",
      "\u001b[0;32m<ipython-input-3-1ecb3c28cd07>\u001b[0m in \u001b[0;36mpredict\u001b[0;34m(self, X)\u001b[0m\n\u001b[1;32m     25\u001b[0m             \u001b[0mdistances\u001b[0m \u001b[0;34m=\u001b[0m \u001b[0mdistance_matrix\u001b[0m\u001b[0;34m(\u001b[0m\u001b[0mX\u001b[0m\u001b[0;34m,\u001b[0m \u001b[0m_fit_X\u001b[0m\u001b[0;34m)\u001b[0m\u001b[0;34m\u001b[0m\u001b[0;34m\u001b[0m\u001b[0m\n\u001b[1;32m     26\u001b[0m         \u001b[0;32melif\u001b[0m \u001b[0mself\u001b[0m\u001b[0;34m.\u001b[0m\u001b[0malgorithm\u001b[0m \u001b[0;34m==\u001b[0m \u001b[0;34m'kd_tree'\u001b[0m\u001b[0;34m:\u001b[0m\u001b[0;34m\u001b[0m\u001b[0;34m\u001b[0m\u001b[0m\n\u001b[0;32m---> 27\u001b[0;31m             \u001b[0mdistances\u001b[0m\u001b[0;34m,\u001b[0m \u001b[0mind\u001b[0m \u001b[0;34m=\u001b[0m \u001b[0mself\u001b[0m\u001b[0;34m.\u001b[0m\u001b[0m_tree\u001b[0m\u001b[0;34m.\u001b[0m\u001b[0mquery\u001b[0m\u001b[0;34m(\u001b[0m\u001b[0mX\u001b[0m\u001b[0;34m,\u001b[0m \u001b[0mn_neighbors\u001b[0m\u001b[0;34m)\u001b[0m\u001b[0;34m\u001b[0m\u001b[0;34m\u001b[0m\u001b[0m\n\u001b[0m\u001b[1;32m     28\u001b[0m         \u001b[0margs\u001b[0m \u001b[0;34m=\u001b[0m \u001b[0mnp\u001b[0m\u001b[0;34m.\u001b[0m\u001b[0margsort\u001b[0m\u001b[0;34m(\u001b[0m\u001b[0mdistances\u001b[0m\u001b[0;34m)\u001b[0m\u001b[0;34m[\u001b[0m\u001b[0;34m:\u001b[0m\u001b[0;34m,\u001b[0m \u001b[0;34m:\u001b[0m\u001b[0mn_neighbors\u001b[0m\u001b[0;34m]\u001b[0m\u001b[0;34m\u001b[0m\u001b[0;34m\u001b[0m\u001b[0m\n\u001b[1;32m     29\u001b[0m         \u001b[0mk_neighbors\u001b[0m \u001b[0;34m=\u001b[0m \u001b[0m_y\u001b[0m\u001b[0;34m[\u001b[0m\u001b[0margs\u001b[0m\u001b[0;34m]\u001b[0m\u001b[0;34m\u001b[0m\u001b[0;34m\u001b[0m\u001b[0m\n",
      "\u001b[0;31mKeyboardInterrupt\u001b[0m: "
     ]
    }
   ],
   "source": [
    "my_clf.score(X_test, y_test)"
   ]
  },
  {
   "cell_type": "markdown",
   "metadata": {},
   "source": [
    "Задание 5"
   ]
  },
  {
   "cell_type": "code",
   "execution_count": null,
   "metadata": {},
   "outputs": [],
   "source": [
    "# seaborn - визализация данных(основан на matplotlib)\n",
    "# matplotlib - создание графиков(визуализация данных)\n",
    "# train_test_split - разделение данных на обучающую часть и тесты\n",
    "# Pipelin%load_ext e (from sklearn.pipeline import Pipeline) конвейер преобразований оканчивающийся оценочной функцией\n",
    "# StandardScaler (from sklearn.preprocessing import StandardScaler) - предобработка данных, сдвигая их \n",
    "# на средние значение и масштабирование (деление на дисперсию)\n",
    "# ClassifierMixin - общий класс для всех классификаторов\n",
    "# NeighborsBase - базовый класс для всех KNN\n",
    "# KNeighborsMixin - базовый класс для поиска K соседей\n",
    "# SupervisedIntegerMixin - класс для проверки типа входных данных и последующему обучению им модели"
   ]
  }
 ],
 "metadata": {
  "kernelspec": {
   "display_name": "Python 3",
   "language": "python",
   "name": "python3"
  },
  "language_info": {
   "codemirror_mode": {
    "name": "ipython",
    "version": 3
   },
   "file_extension": ".py",
   "mimetype": "text/x-python",
   "name": "python",
   "nbconvert_exporter": "python",
   "pygments_lexer": "ipython3",
   "version": "3.7.2"
  }
 },
 "nbformat": 4,
 "nbformat_minor": 2
}
