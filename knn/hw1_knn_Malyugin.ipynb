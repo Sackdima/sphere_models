{
 "cells": [
  {
   "cell_type": "markdown",
   "metadata": {},
   "source": [
    "**Общая информация**\n",
    "\n",
    "**Срок сдачи:** 20 марта 2019, 06:00 <br\\>\n",
    "**Штраф за опоздание:** -1 балл после 06:00 20 марта, -2 балла после 06:00 27 марта, -3 балла после 06:00 3 апреля\n",
    "-4 балла после 06:00 10 апреля\n",
    "\n",
    "При отправлении ДЗ указывайте фамилию в названии файла\n",
    "Присылать ДЗ необходимо в виде ссылки на свой github репозиторий в slack @alkhamush\n",
    "\n",
    "Необходимо в slack скинуть ссылку в личный чат @alkhamush\n",
    "Пример ссылки:\n",
    "https://github.com/stroykova/spheremailru/stroykova_hw1.ipynb \n",
    "\n",
    "\n",
    "Используйте данный Ipython Notebook при оформлении домашнего задания."
   ]
  },
  {
   "cell_type": "markdown",
   "metadata": {},
   "source": [
    "##### Задание 1 (2 баллов)\n",
    "Реализовать KNN в классе MyKNeighborsClassifier (обязательное условие: точность не ниже sklearn реализации)\n",
    "Разберитесь самостоятельно, какая мера расстояния используется в KNeighborsClassifier дефолтно и реализуйте свой алгоритм именно с этой мерой. Самостоятельно разберитесь, как считается score из KNeighborsClassifier и реализуйте аналог в своём классе. Score не должен уступать значению KNN из sklearn\n",
    "\n",
    "###### Задание 2 (2 балла)\n",
    "Добиться скорости работы на fit,  predict и predict_proba сравнимой со sklearn для iris и mnist\n",
    "Для этого используем numpy\n",
    "\n",
    "###### Задание 3 (2 балла)\n",
    "Для iris найдите такой параметр n_neighbors, при котором выдаётся наилучший score. Нарисуйте график зависимости score от n_neighbors\n",
    "\n",
    "###### Задание 4 (3 балла)\n",
    "Добавить algorithm='kd_tree' в реализацию KNN (использовать KDTree из sklearn.neighbors). Добиться скорости работы на fit,  predict и predict_proba сравнимой со sklearn для iris и mnist\n",
    "Для этого используем numpy. Score не должен уступать значению KNN из sklearn\n",
    "\n",
    "###### Задание 5 (1 балла)\n",
    "Описать для чего нужны следующие библиотеки/классы/функции (список будет ниже)\n",
    "\n",
    "**Штрафные баллы:**\n",
    "\n",
    "1. Невыполнение PEP8 -0.5 баллов\n",
    "2. Отсутствие фамилии в имени скрипта (скрипт должен называться по аналогии со stroykova_hw1.ipynb) -0.5 баллов\n",
    "3. Все строчки должны быть выполнены. Нужно, чтобы output команды можно было увидеть уже в git'е. В противном случае -0.5 баллов\n",
    "4. При оформлении ДЗ нужно пользоваться данным файлом в качестве шаблона. Не нужно удалять и видоизменять структуру кода и текст. В противном случае -0.5 баллов\n"
   ]
  },
  {
   "cell_type": "code",
   "execution_count": 5,
   "metadata": {},
   "outputs": [],
   "source": [
    "import numpy as np\n",
    "import matplotlib.pyplot as plt\n",
    "\n",
    "import seaborn as sns\n",
    "from sklearn import datasets\n",
    "from sklearn.base import ClassifierMixin\n",
    "from sklearn.datasets import fetch_mldata, fetch_openml\n",
    "from sklearn.neighbors.base import NeighborsBase, KNeighborsMixin, SupervisedIntegerMixin \n",
    "from sklearn.model_selection import train_test_split\n",
    "from sklearn.neighbors import KNeighborsClassifier, KDTree\n",
    "from scipy.spatial import distance_matrix\n",
    "%load_ext pycodestyle_magic"
   ]
  },
  {
   "cell_type": "code",
   "execution_count": 9,
   "metadata": {},
   "outputs": [],
   "source": [
    "#%%pycodestyle\n",
    "\n",
    "\n",
    "class MyKNeighborsClassifier(NeighborsBase, KNeighborsMixin,\n",
    "                             SupervisedIntegerMixin, ClassifierMixin):\n",
    "\n",
    "    def __init__(self, n_neighbors, algorithm='brute'):\n",
    "        self.n_neighbors = n_neighbors\n",
    "        self.algorithm = algorithm\n",
    "        self.leaf_size = 30\n",
    "\n",
    "    def fit(self, X, y):\n",
    "        self._y = np.asarray(y)\n",
    "        self.labels = np.unique(y)\n",
    "        if self.algorithm == 'brute':\n",
    "            self._fit_X = np.asarray(X, dtype=np.float64)\n",
    "        elif self.algorithm == 'kd_tree':\n",
    "            self._tree = KDTree(X, leaf_size=self.leaf_size)\n",
    "        return self\n",
    "\n",
    "    def predict_brute_proba(self, x):\n",
    "        dist = np.sum((self._fit_X - x) ** 2, axis=1) ** 0.5\n",
    "        labels = self._y[np.argsort(dist)[:self.n_neighbors]]\n",
    "        return np.bincount(labels, minlength=len(self.labels))\n",
    "\n",
    "    def predict(self, X):\n",
    "        n_neighbors = self.n_neighbors\n",
    "        _y = self._y\n",
    "        if self.algorithm == 'brute':\n",
    "            res = np.zeros(X.shape[0], dtype=_y.dtype)\n",
    "            _fit_X = self._fit_X\n",
    "            for i, x in enumerate(X):\n",
    "                res[i] = self.predict_brute_proba(x).argmax()\n",
    "            return res\n",
    "        elif self.algorithm == 'kd_tree':\n",
    "            distances, ind = self._tree.query(X, n_neighbors)\n",
    "        return np.apply_along_axis(lambda x: np.bincount(x).argmax(),\n",
    "                                   1, _y[ind])\n",
    "\n",
    "    def predict_proba(self, X):\n",
    "        n_neighbors = self.n_neighbors\n",
    "        _y = self._y\n",
    "        n_samples = X.shape[0]\n",
    "        labels = self.labels\n",
    "        if self.algorithm == 'brute':\n",
    "            _fit_X = self._fit_X\n",
    "            res = np.zeros((n_samples, len(labels)), dtype=np.float64)\n",
    "            for i, x in enumerate(X):\n",
    "                res[i] = self.predict_brute_proba(x) / n_neighbors\n",
    "            return res\n",
    "        elif self.algorithm == 'kd_tree':\n",
    "            distances, ind = self._tree.query(X, n_neighbors)\n",
    "            res = []\n",
    "            for i in ind:\n",
    "                res.append(np.bincount(_y[i],\n",
    "                                       minlength=len(labels))\n",
    "                           / n_neighbors)\n",
    "            return np.asarray(res)\n",
    "\n",
    "    def score(self, X, y):\n",
    "        predicted = self.predict(X)\n",
    "        return np.mean(predicted == y)\n"
   ]
  },
  {
   "cell_type": "markdown",
   "metadata": {},
   "source": [
    "**IRIS**"
   ]
  },
  {
   "cell_type": "code",
   "execution_count": 3,
   "metadata": {},
   "outputs": [],
   "source": [
    "iris = datasets.load_iris()"
   ]
  },
  {
   "cell_type": "code",
   "execution_count": 4,
   "metadata": {},
   "outputs": [],
   "source": [
    "X_train, X_test, y_train, y_test = train_test_split(iris.data, iris.target, test_size=0.1, stratify=iris.target)"
   ]
  },
  {
   "cell_type": "code",
   "execution_count": 5,
   "metadata": {},
   "outputs": [],
   "source": [
    "clf = KNeighborsClassifier(n_neighbors=2, algorithm='brute')\n",
    "my_clf = MyKNeighborsClassifier(n_neighbors=2, algorithm='brute')"
   ]
  },
  {
   "cell_type": "code",
   "execution_count": 6,
   "metadata": {},
   "outputs": [
    {
     "name": "stdout",
     "output_type": "stream",
     "text": [
      "Wall time: 0 ns\n"
     ]
    },
    {
     "data": {
      "text/plain": [
       "KNeighborsClassifier(algorithm='brute', leaf_size=30, metric='minkowski',\n",
       "           metric_params=None, n_jobs=None, n_neighbors=2, p=2,\n",
       "           weights='uniform')"
      ]
     },
     "execution_count": 6,
     "metadata": {},
     "output_type": "execute_result"
    }
   ],
   "source": [
    "%time clf.fit(X_train, y_train)"
   ]
  },
  {
   "cell_type": "code",
   "execution_count": 7,
   "metadata": {},
   "outputs": [
    {
     "name": "stdout",
     "output_type": "stream",
     "text": [
      "Wall time: 0 ns\n"
     ]
    },
    {
     "data": {
      "text/plain": [
       "MyKNeighborsClassifier(algorithm='brute', n_neighbors=2)"
      ]
     },
     "execution_count": 7,
     "metadata": {},
     "output_type": "execute_result"
    }
   ],
   "source": [
    "%time my_clf.fit(X_train, y_train)"
   ]
  },
  {
   "cell_type": "code",
   "execution_count": 8,
   "metadata": {},
   "outputs": [
    {
     "name": "stdout",
     "output_type": "stream",
     "text": [
      "Wall time: 0 ns\n"
     ]
    },
    {
     "data": {
      "text/plain": [
       "array([0, 1, 2, 2, 2, 0, 2, 2, 1, 1, 1, 0, 1, 0, 0])"
      ]
     },
     "execution_count": 8,
     "metadata": {},
     "output_type": "execute_result"
    }
   ],
   "source": [
    "%time clf.predict(X_test)"
   ]
  },
  {
   "cell_type": "code",
   "execution_count": 9,
   "metadata": {},
   "outputs": [
    {
     "name": "stdout",
     "output_type": "stream",
     "text": [
      "Wall time: 0 ns\n"
     ]
    },
    {
     "data": {
      "text/plain": [
       "array([0, 1, 2, 2, 2, 0, 2, 2, 1, 1, 1, 0, 1, 0, 0])"
      ]
     },
     "execution_count": 9,
     "metadata": {},
     "output_type": "execute_result"
    }
   ],
   "source": [
    "%time my_clf.predict(X_test)"
   ]
  },
  {
   "cell_type": "code",
   "execution_count": 10,
   "metadata": {},
   "outputs": [
    {
     "name": "stdout",
     "output_type": "stream",
     "text": [
      "Wall time: 0 ns\n"
     ]
    },
    {
     "data": {
      "text/plain": [
       "array([[1., 0., 0.],\n",
       "       [0., 1., 0.],\n",
       "       [0., 0., 1.],\n",
       "       [0., 0., 1.],\n",
       "       [0., 0., 1.],\n",
       "       [1., 0., 0.],\n",
       "       [0., 0., 1.],\n",
       "       [0., 0., 1.],\n",
       "       [0., 1., 0.],\n",
       "       [0., 1., 0.],\n",
       "       [0., 1., 0.],\n",
       "       [1., 0., 0.],\n",
       "       [0., 1., 0.],\n",
       "       [1., 0., 0.],\n",
       "       [1., 0., 0.]])"
      ]
     },
     "execution_count": 10,
     "metadata": {},
     "output_type": "execute_result"
    }
   ],
   "source": [
    "%time clf.predict_proba(X_test)"
   ]
  },
  {
   "cell_type": "code",
   "execution_count": 11,
   "metadata": {},
   "outputs": [
    {
     "name": "stdout",
     "output_type": "stream",
     "text": [
      "Wall time: 0 ns\n"
     ]
    },
    {
     "data": {
      "text/plain": [
       "array([[1., 0., 0.],\n",
       "       [0., 1., 0.],\n",
       "       [0., 0., 1.],\n",
       "       [0., 0., 1.],\n",
       "       [0., 0., 1.],\n",
       "       [1., 0., 0.],\n",
       "       [0., 0., 1.],\n",
       "       [0., 0., 1.],\n",
       "       [0., 1., 0.],\n",
       "       [0., 1., 0.],\n",
       "       [0., 1., 0.],\n",
       "       [1., 0., 0.],\n",
       "       [0., 1., 0.],\n",
       "       [1., 0., 0.],\n",
       "       [1., 0., 0.]])"
      ]
     },
     "execution_count": 11,
     "metadata": {},
     "output_type": "execute_result"
    }
   ],
   "source": [
    "%time my_clf.predict_proba(X_test)"
   ]
  },
  {
   "cell_type": "code",
   "execution_count": 12,
   "metadata": {},
   "outputs": [
    {
     "data": {
      "text/plain": [
       "1.0"
      ]
     },
     "execution_count": 12,
     "metadata": {},
     "output_type": "execute_result"
    }
   ],
   "source": [
    "clf.score(X_test, y_test)"
   ]
  },
  {
   "cell_type": "code",
   "execution_count": 13,
   "metadata": {},
   "outputs": [
    {
     "data": {
      "text/plain": [
       "1.0"
      ]
     },
     "execution_count": 13,
     "metadata": {},
     "output_type": "execute_result"
    }
   ],
   "source": [
    "my_clf.score(X_test, y_test)"
   ]
  },
  {
   "cell_type": "markdown",
   "metadata": {},
   "source": [
    "Задание 3"
   ]
  },
  {
   "cell_type": "code",
   "execution_count": 14,
   "metadata": {},
   "outputs": [
    {
     "data": {
      "image/png": "[encoded data removed]",
      "text/plain": [
       "<Figure size 720x360 with 1 Axes>"
      ]
     },
     "metadata": {
      "needs_background": "light"
     },
     "output_type": "display_data"
    },
    {
     "name": "stdout",
     "output_type": "stream",
     "text": [
      "15\n"
     ]
    }
   ],
   "source": [
    "\n",
    "\n",
    "iris = datasets.load_iris()\n",
    "loops = 50\n",
    "max_neighbors = 50\n",
    "min_neighbors = 1\n",
    "scores = np.zeros((max_neighbors))\n",
    "\n",
    "for i in range(min_neighbors, max_neighbors):\n",
    "    my_clf = MyKNeighborsClassifier(n_neighbors=i, algorithm='brute')\n",
    "    for j in range(loops):\n",
    "        X_train, X_test, y_train, y_test = train_test_split(iris.data, iris.target, test_size=0.1, stratify=iris.target)\n",
    "        my_clf.fit(X_train, y_train)\n",
    "        scores[i] += my_clf.score(X_test, y_test)\n",
    "    scores[i] /= loops\n",
    "    \n",
    "fig = plt.figure(figsize=(10, 5))\n",
    "ax1 = fig.add_subplot(111)\n",
    "ax1.set_ylim(0.3, 1)\n",
    "plt.plot(np.arange(min_neighbors, max_neighbors), scores[min_neighbors:])\n",
    "plt.show()\n",
    "\n",
    "print(np.argmax(scores))"
   ]
  },
  {
   "cell_type": "markdown",
   "metadata": {},
   "source": [
    "**MNIST**"
   ]
  },
  {
   "cell_type": "code",
   "execution_count": 10,
   "metadata": {},
   "outputs": [],
   "source": [
    "mnist = fetch_openml('mnist_784')\n",
    "#mnist = fetch_mldata('MNIST original')"
   ]
  },
  {
   "cell_type": "code",
   "execution_count": 11,
   "metadata": {},
   "outputs": [],
   "source": [
    "X_train, X_test, y_train, y_test = train_test_split(mnist.data, mnist.target, test_size=0.01, stratify=mnist.target)\n",
    "y_train = y_train.astype(int)\n",
    "y_test = y_test.astype(int)"
   ]
  },
  {
   "cell_type": "code",
   "execution_count": 12,
   "metadata": {},
   "outputs": [],
   "source": [
    "clf = KNeighborsClassifier(n_neighbors=2, algorithm='brute')\n",
    "my_clf = MyKNeighborsClassifier(n_neighbors=2, algorithm='brute')"
   ]
  },
  {
   "cell_type": "code",
   "execution_count": 13,
   "metadata": {},
   "outputs": [
    {
     "name": "stdout",
     "output_type": "stream",
     "text": [
      "CPU times: user 61.5 ms, sys: 57 µs, total: 61.6 ms\n",
      "Wall time: 60.2 ms\n"
     ]
    },
    {
     "data": {
      "text/plain": [
       "KNeighborsClassifier(algorithm='brute', leaf_size=30, metric='minkowski',\n",
       "           metric_params=None, n_jobs=None, n_neighbors=2, p=2,\n",
       "           weights='uniform')"
      ]
     },
     "execution_count": 13,
     "metadata": {},
     "output_type": "execute_result"
    }
   ],
   "source": [
    "%time clf.fit(X_train, y_train)"
   ]
  },
  {
   "cell_type": "code",
   "execution_count": 14,
   "metadata": {},
   "outputs": [
    {
     "name": "stdout",
     "output_type": "stream",
     "text": [
      "CPU times: user 2.26 ms, sys: 19 µs, total: 2.28 ms\n",
      "Wall time: 1.7 ms\n"
     ]
    },
    {
     "data": {
      "text/plain": [
       "MyKNeighborsClassifier(algorithm='brute', n_neighbors=2)"
      ]
     },
     "execution_count": 14,
     "metadata": {},
     "output_type": "execute_result"
    }
   ],
   "source": [
    "%time my_clf.fit(X_train, y_train)"
   ]
  },
  {
   "cell_type": "code",
   "execution_count": 15,
   "metadata": {
    "scrolled": false
   },
   "outputs": [
    {
     "name": "stdout",
     "output_type": "stream",
     "text": [
      "CPU times: user 3.8 s, sys: 482 ms, total: 4.28 s\n",
      "Wall time: 1.5 s\n"
     ]
    },
    {
     "data": {
      "text/plain": [
       "array([9, 3, 0, 0, 3, 2, 5, 4, 2, 3, 3, 6, 1, 9, 4, 2, 1, 8, 8, 9, 0, 5,\n",
       "       1, 4, 0, 1, 1, 5, 0, 0, 5, 8, 2, 3, 8, 1, 7, 1, 6, 2, 2, 7, 9, 1,\n",
       "       5, 2, 8, 5, 2, 4, 7, 4, 6, 4, 8, 4, 3, 8, 0, 0, 8, 6, 4, 7, 1, 4,\n",
       "       3, 7, 1, 9, 7, 7, 8, 5, 5, 3, 9, 9, 2, 9, 6, 2, 5, 9, 9, 3, 3, 1,\n",
       "       2, 6, 8, 3, 3, 4, 7, 3, 9, 1, 4, 2, 4, 7, 6, 7, 1, 2, 4, 0, 6, 0,\n",
       "       3, 8, 9, 6, 2, 3, 0, 4, 6, 1, 0, 1, 3, 5, 7, 8, 2, 0, 0, 1, 5, 8,\n",
       "       0, 8, 4, 0, 6, 4, 3, 7, 9, 8, 9, 4, 4, 7, 9, 5, 6, 8, 6, 3, 6, 2,\n",
       "       2, 5, 1, 6, 8, 7, 1, 6, 4, 9, 0, 6, 6, 7, 0, 6, 4, 8, 3, 1, 2, 2,\n",
       "       9, 0, 3, 0, 3, 3, 0, 4, 6, 6, 4, 0, 7, 1, 4, 1, 5, 2, 7, 8, 5, 5,\n",
       "       1, 3, 9, 0, 2, 1, 3, 9, 6, 7, 8, 3, 2, 1, 5, 1, 2, 4, 5, 7, 5, 5,\n",
       "       8, 8, 8, 8, 3, 3, 7, 4, 3, 0, 2, 0, 0, 8, 1, 8, 9, 9, 0, 4, 4, 2,\n",
       "       5, 2, 1, 3, 7, 7, 9, 3, 4, 9, 1, 0, 7, 7, 0, 3, 6, 6, 3, 5, 7, 5,\n",
       "       8, 2, 9, 7, 9, 5, 3, 3, 5, 9, 7, 2, 1, 9, 3, 1, 9, 5, 1, 3, 2, 1,\n",
       "       3, 0, 3, 2, 6, 9, 8, 3, 5, 7, 2, 2, 1, 5, 4, 8, 6, 7, 5, 9, 7, 4,\n",
       "       4, 1, 2, 7, 5, 1, 3, 9, 0, 7, 4, 1, 7, 7, 1, 2, 6, 1, 5, 9, 2, 1,\n",
       "       7, 0, 3, 3, 9, 4, 9, 3, 6, 7, 7, 1, 7, 9, 7, 3, 4, 0, 1, 2, 3, 1,\n",
       "       4, 4, 9, 1, 1, 0, 4, 2, 7, 8, 0, 3, 5, 6, 1, 8, 2, 0, 8, 6, 9, 0,\n",
       "       2, 7, 9, 9, 7, 3, 1, 0, 2, 1, 0, 9, 7, 1, 0, 7, 0, 3, 7, 3, 3, 0,\n",
       "       6, 1, 5, 1, 2, 4, 1, 4, 5, 4, 7, 4, 1, 1, 0, 6, 0, 1, 4, 0, 6, 1,\n",
       "       4, 2, 4, 1, 7, 1, 1, 9, 6, 5, 7, 2, 9, 7, 6, 9, 7, 4, 6, 1, 1, 5,\n",
       "       8, 4, 2, 4, 1, 9, 8, 7, 3, 9, 3, 7, 3, 3, 3, 5, 6, 1, 6, 2, 5, 0,\n",
       "       7, 1, 3, 9, 1, 4, 8, 1, 6, 9, 0, 4, 6, 4, 2, 6, 5, 9, 9, 7, 3, 8,\n",
       "       2, 6, 0, 9, 4, 2, 9, 3, 9, 0, 6, 8, 0, 1, 8, 0, 8, 2, 0, 7, 4, 9,\n",
       "       3, 7, 4, 2, 9, 6, 3, 8, 9, 9, 6, 0, 9, 3, 3, 4, 5, 9, 0, 1, 0, 3,\n",
       "       7, 2, 6, 7, 6, 2, 2, 8, 6, 3, 3, 2, 4, 8, 2, 3, 5, 6, 1, 0, 6, 5,\n",
       "       7, 8, 5, 5, 1, 8, 3, 6, 0, 7, 7, 1, 2, 3, 1, 0, 3, 8, 6, 3, 5, 4,\n",
       "       0, 7, 6, 8, 6, 5, 6, 7, 8, 1, 7, 4, 6, 8, 6, 7, 5, 9, 6, 3, 8, 1,\n",
       "       4, 3, 2, 0, 6, 0, 7, 1, 5, 1, 7, 1, 7, 7, 7, 8, 1, 6, 0, 9, 2, 2,\n",
       "       8, 9, 2, 2, 8, 0, 2, 2, 0, 5, 4, 8, 6, 7, 7, 5, 4, 4, 6, 5, 0, 7,\n",
       "       8, 9, 5, 2, 3, 5, 7, 9, 2, 5, 4, 5, 4, 0, 6, 3, 8, 6, 5, 8, 4, 9,\n",
       "       6, 2, 9, 0, 9, 3, 8, 5, 2, 8, 9, 0, 8, 4, 1, 1, 4, 4, 7, 2, 3, 1,\n",
       "       6, 6, 0, 6, 4, 6, 3, 9, 7, 4, 5, 0, 5, 1, 5, 8, 8, 2])"
      ]
     },
     "execution_count": 15,
     "metadata": {},
     "output_type": "execute_result"
    }
   ],
   "source": [
    "%time clf.predict(X_test)"
   ]
  },
  {
   "cell_type": "code",
   "execution_count": 16,
   "metadata": {},
   "outputs": [
    {
     "name": "stdout",
     "output_type": "stream",
     "text": [
      "CPU times: user 1min 43s, sys: 1min 6s, total: 2min 50s\n",
      "Wall time: 2min 50s\n"
     ]
    },
    {
     "data": {
      "text/plain": [
       "array([9, 3, 0, 0, 3, 2, 5, 4, 2, 3, 3, 6, 1, 9, 4, 2, 1, 8, 8, 9, 0, 5,\n",
       "       1, 4, 0, 1, 1, 5, 0, 0, 5, 8, 2, 3, 8, 1, 7, 1, 6, 2, 2, 7, 9, 1,\n",
       "       5, 2, 8, 5, 2, 4, 7, 4, 6, 4, 8, 4, 3, 8, 0, 0, 8, 6, 4, 7, 1, 4,\n",
       "       3, 7, 1, 9, 7, 7, 8, 5, 5, 3, 9, 9, 2, 9, 6, 2, 5, 9, 9, 3, 3, 1,\n",
       "       2, 6, 8, 3, 3, 4, 7, 3, 9, 1, 4, 2, 4, 7, 6, 7, 1, 2, 4, 0, 6, 0,\n",
       "       3, 8, 9, 6, 2, 3, 0, 4, 6, 1, 0, 1, 3, 5, 7, 8, 2, 0, 0, 1, 5, 8,\n",
       "       0, 8, 4, 0, 6, 4, 3, 7, 9, 8, 9, 4, 4, 7, 9, 5, 6, 8, 6, 3, 6, 2,\n",
       "       2, 5, 1, 6, 8, 7, 1, 6, 4, 9, 0, 6, 6, 7, 0, 6, 4, 8, 3, 1, 2, 2,\n",
       "       9, 0, 3, 0, 3, 3, 0, 4, 6, 6, 4, 0, 7, 1, 4, 1, 5, 2, 7, 8, 5, 5,\n",
       "       1, 3, 9, 0, 2, 1, 3, 9, 6, 7, 8, 3, 2, 1, 5, 1, 2, 4, 5, 7, 5, 5,\n",
       "       8, 8, 8, 8, 3, 3, 7, 4, 3, 0, 2, 0, 0, 8, 1, 8, 9, 9, 0, 4, 4, 2,\n",
       "       5, 2, 1, 3, 7, 7, 9, 3, 4, 9, 1, 0, 7, 7, 0, 3, 6, 6, 3, 5, 7, 5,\n",
       "       8, 2, 9, 7, 9, 5, 3, 3, 5, 9, 7, 2, 1, 9, 3, 1, 9, 5, 1, 3, 2, 1,\n",
       "       3, 0, 3, 2, 6, 9, 8, 3, 5, 7, 2, 2, 1, 5, 4, 8, 6, 7, 5, 9, 7, 4,\n",
       "       4, 1, 2, 7, 5, 1, 3, 9, 0, 7, 4, 1, 7, 7, 1, 2, 6, 1, 5, 9, 2, 1,\n",
       "       7, 0, 3, 3, 9, 4, 9, 3, 6, 7, 7, 1, 7, 9, 7, 3, 4, 0, 1, 2, 3, 1,\n",
       "       4, 4, 9, 1, 1, 0, 4, 2, 7, 8, 0, 3, 5, 6, 1, 8, 2, 0, 8, 6, 9, 0,\n",
       "       2, 7, 9, 9, 7, 3, 1, 0, 2, 1, 0, 9, 7, 1, 0, 7, 0, 3, 7, 3, 3, 0,\n",
       "       6, 1, 5, 1, 2, 4, 1, 4, 5, 4, 7, 4, 1, 1, 0, 6, 0, 1, 4, 0, 6, 1,\n",
       "       4, 2, 4, 1, 7, 1, 1, 9, 6, 5, 7, 2, 9, 7, 6, 9, 7, 4, 6, 1, 1, 5,\n",
       "       8, 4, 2, 4, 1, 9, 8, 7, 3, 9, 3, 7, 3, 3, 3, 5, 6, 1, 6, 2, 5, 0,\n",
       "       7, 1, 3, 9, 1, 4, 8, 1, 6, 9, 0, 4, 6, 4, 2, 6, 5, 9, 9, 7, 3, 8,\n",
       "       2, 6, 0, 9, 4, 2, 9, 3, 9, 0, 6, 8, 0, 1, 8, 0, 8, 2, 0, 7, 4, 9,\n",
       "       3, 7, 4, 2, 9, 6, 3, 8, 9, 9, 6, 0, 9, 3, 3, 4, 5, 9, 0, 1, 0, 3,\n",
       "       7, 2, 6, 7, 6, 2, 2, 8, 6, 3, 3, 2, 4, 8, 2, 3, 5, 6, 1, 0, 6, 5,\n",
       "       7, 8, 5, 5, 1, 8, 3, 6, 0, 7, 7, 1, 2, 3, 1, 0, 3, 8, 6, 3, 5, 4,\n",
       "       0, 7, 6, 8, 6, 5, 6, 7, 8, 1, 7, 4, 6, 8, 6, 7, 5, 9, 6, 3, 8, 1,\n",
       "       4, 3, 2, 0, 6, 0, 7, 1, 5, 1, 7, 1, 7, 7, 7, 8, 1, 6, 0, 9, 2, 2,\n",
       "       8, 9, 2, 2, 8, 0, 2, 2, 0, 5, 4, 8, 6, 7, 7, 5, 4, 4, 6, 5, 0, 7,\n",
       "       8, 9, 5, 2, 3, 5, 7, 9, 2, 5, 4, 5, 4, 0, 6, 3, 8, 6, 5, 8, 4, 9,\n",
       "       6, 2, 9, 0, 9, 3, 8, 5, 2, 8, 9, 0, 8, 4, 1, 1, 4, 4, 7, 2, 3, 1,\n",
       "       6, 6, 0, 6, 4, 6, 3, 9, 7, 4, 5, 0, 5, 1, 5, 8, 8, 2])"
      ]
     },
     "execution_count": 16,
     "metadata": {},
     "output_type": "execute_result"
    }
   ],
   "source": [
    "%time my_clf.predict(X_test)"
   ]
  },
  {
   "cell_type": "code",
   "execution_count": 18,
   "metadata": {},
   "outputs": [
    {
     "name": "stdout",
     "output_type": "stream",
     "text": [
      "CPU times: user 3.7 s, sys: 439 ms, total: 4.14 s\n",
      "Wall time: 1.44 s\n"
     ]
    },
    {
     "data": {
      "text/plain": [
       "array([[0., 0., 0., ..., 0., 0., 1.],\n",
       "       [0., 0., 0., ..., 0., 0., 0.],\n",
       "       [1., 0., 0., ..., 0., 0., 0.],\n",
       "       ...,\n",
       "       [0., 0., 0., ..., 0., 1., 0.],\n",
       "       [0., 0., 0., ..., 0., 1., 0.],\n",
       "       [0., 0., 1., ..., 0., 0., 0.]])"
      ]
     },
     "execution_count": 18,
     "metadata": {},
     "output_type": "execute_result"
    }
   ],
   "source": [
    "%time clf.predict_proba(X_test)"
   ]
  },
  {
   "cell_type": "code",
   "execution_count": 17,
   "metadata": {},
   "outputs": [
    {
     "name": "stdout",
     "output_type": "stream",
     "text": [
      "CPU times: user 1min 45s, sys: 1min 6s, total: 2min 51s\n",
      "Wall time: 2min 51s\n"
     ]
    },
    {
     "data": {
      "text/plain": [
       "array([[0., 0., 0., ..., 0., 0., 1.],\n",
       "       [0., 0., 0., ..., 0., 0., 0.],\n",
       "       [1., 0., 0., ..., 0., 0., 0.],\n",
       "       ...,\n",
       "       [0., 0., 0., ..., 0., 1., 0.],\n",
       "       [0., 0., 0., ..., 0., 1., 0.],\n",
       "       [0., 0., 1., ..., 0., 0., 0.]])"
      ]
     },
     "execution_count": 17,
     "metadata": {},
     "output_type": "execute_result"
    }
   ],
   "source": [
    "%time my_clf.predict_proba(X_test)"
   ]
  },
  {
   "cell_type": "code",
   "execution_count": 24,
   "metadata": {},
   "outputs": [
    {
     "data": {
      "text/plain": [
       "0.9742857142857143"
      ]
     },
     "execution_count": 24,
     "metadata": {},
     "output_type": "execute_result"
    }
   ],
   "source": [
    "clf.score(X_test, y_test)"
   ]
  },
  {
   "cell_type": "code",
   "execution_count": 25,
   "metadata": {},
   "outputs": [
    {
     "data": {
      "text/plain": [
       "0.9742857142857143"
      ]
     },
     "execution_count": 25,
     "metadata": {},
     "output_type": "execute_result"
    }
   ],
   "source": [
    "my_clf.score(X_test, y_test)"
   ]
  },
  {
   "cell_type": "markdown",
   "metadata": {},
   "source": [
    "Задание 4"
   ]
  },
  {
   "cell_type": "code",
   "execution_count": 38,
   "metadata": {},
   "outputs": [],
   "source": [
    "clf = KNeighborsClassifier(n_neighbors=2, algorithm='kd_tree')\n",
    "my_clf = MyKNeighborsClassifier(n_neighbors=2, algorithm='kd_tree')"
   ]
  },
  {
   "cell_type": "code",
   "execution_count": 39,
   "metadata": {},
   "outputs": [],
   "source": [
    "X_train, X_test, y_train, y_test = train_test_split(mnist.data, mnist.target, test_size=0.01, stratify=mnist.target)\n",
    "y_train = y_train.astype(int)\n",
    "y_test = y_test.astype(int)"
   ]
  },
  {
   "cell_type": "code",
   "execution_count": 40,
   "metadata": {},
   "outputs": [
    {
     "name": "stdout",
     "output_type": "stream",
     "text": [
      "Wall time: 21.8 s\n"
     ]
    },
    {
     "data": {
      "text/plain": [
       "KNeighborsClassifier(algorithm='kd_tree', leaf_size=30, metric='minkowski',\n",
       "           metric_params=None, n_jobs=None, n_neighbors=2, p=2,\n",
       "           weights='uniform')"
      ]
     },
     "execution_count": 40,
     "metadata": {},
     "output_type": "execute_result"
    }
   ],
   "source": [
    "%time clf.fit(X_train, y_train)"
   ]
  },
  {
   "cell_type": "code",
   "execution_count": 41,
   "metadata": {},
   "outputs": [
    {
     "name": "stdout",
     "output_type": "stream",
     "text": [
      "Wall time: 21.4 s\n"
     ]
    },
    {
     "data": {
      "text/plain": [
       "MyKNeighborsClassifier(algorithm='kd_tree', n_neighbors=2)"
      ]
     },
     "execution_count": 41,
     "metadata": {},
     "output_type": "execute_result"
    }
   ],
   "source": [
    "%time my_clf.fit(X_train, y_train)"
   ]
  },
  {
   "cell_type": "code",
   "execution_count": 42,
   "metadata": {
    "scrolled": true
   },
   "outputs": [
    {
     "name": "stdout",
     "output_type": "stream",
     "text": [
      "Wall time: 59.7 s\n"
     ]
    },
    {
     "data": {
      "text/plain": [
       "array([8, 3, 1, 3, 7, 6, 9, 7, 8, 8, 7, 8, 3, 7, 7, 4, 0, 6, 6, 6, 3, 4,\n",
       "       3, 8, 1, 4, 7, 2, 3, 8, 2, 8, 4, 4, 4, 0, 0, 2, 6, 0, 1, 2, 3, 7,\n",
       "       7, 9, 4, 9, 3, 6, 1, 9, 0, 5, 3, 1, 9, 6, 0, 0, 9, 5, 0, 3, 7, 9,\n",
       "       8, 4, 2, 7, 0, 0, 5, 1, 5, 0, 9, 8, 8, 2, 6, 7, 1, 5, 7, 1, 5, 0,\n",
       "       4, 8, 9, 7, 7, 9, 2, 3, 6, 1, 0, 8, 1, 7, 2, 0, 7, 8, 9, 4, 8, 5,\n",
       "       7, 7, 0, 7, 1, 3, 9, 8, 3, 1, 5, 1, 1, 6, 8, 7, 2, 4, 9, 9, 8, 0,\n",
       "       8, 6, 2, 8, 6, 5, 1, 4, 9, 5, 0, 7, 5, 1, 0, 6, 8, 6, 2, 3, 3, 4,\n",
       "       0, 1, 9, 0, 4, 0, 6, 1, 0, 3, 3, 3, 2, 4, 1, 3, 7, 6, 9, 4, 4, 7,\n",
       "       1, 6, 4, 9, 7, 3, 8, 6, 1, 2, 5, 5, 5, 3, 3, 2, 2, 1, 1, 6, 6, 1,\n",
       "       5, 0, 9, 8, 0, 4, 1, 6, 7, 3, 3, 4, 2, 0, 1, 0, 1, 5, 9, 7, 8, 4,\n",
       "       0, 4, 2, 5, 5, 6, 6, 3, 1, 6, 4, 1, 0, 8, 1, 0, 5, 0, 7, 0, 1, 3,\n",
       "       3, 2, 6, 1, 3, 3, 8, 2, 6, 6, 7, 2, 7, 7, 3, 4, 8, 1, 4, 1, 3, 5,\n",
       "       9, 0, 0, 7, 9, 1, 7, 8, 5, 4, 5, 1, 9, 8, 2, 9, 4, 7, 9, 1, 0, 0,\n",
       "       9, 2, 3, 1, 0, 6, 2, 3, 5, 2, 6, 2, 2, 5, 4, 6, 1, 8, 0, 9, 6, 2,\n",
       "       2, 3, 5, 8, 0, 7, 1, 2, 0, 1, 2, 8, 6, 7, 9, 1, 6, 9, 4, 2, 3, 9,\n",
       "       2, 8, 9, 7, 7, 6, 9, 6, 4, 1, 5, 9, 8, 7, 7, 5, 3, 9, 4, 2, 8, 6,\n",
       "       1, 2, 4, 9, 1, 1, 3, 5, 9, 7, 2, 5, 0, 1, 0, 2, 9, 1, 4, 5, 9, 2,\n",
       "       8, 0, 2, 8, 1, 6, 8, 3, 1, 0, 1, 6, 3, 7, 7, 3, 6, 5, 2, 1, 2, 6,\n",
       "       3, 7, 9, 1, 2, 0, 5, 0, 4, 9, 6, 6, 2, 1, 4, 8, 8, 5, 6, 7, 7, 6,\n",
       "       2, 0, 0, 2, 5, 0, 6, 6, 4, 7, 4, 4, 5, 8, 5, 7, 9, 3, 4, 7, 6, 8,\n",
       "       9, 9, 7, 3, 7, 1, 9, 0, 2, 4, 1, 5, 3, 5, 0, 1, 8, 1, 3, 7, 4, 8,\n",
       "       3, 0, 6, 1, 2, 4, 4, 5, 4, 8, 4, 2, 0, 5, 5, 6, 7, 7, 3, 3, 1, 1,\n",
       "       0, 7, 4, 8, 4, 1, 2, 9, 8, 4, 4, 2, 2, 4, 6, 7, 4, 6, 6, 8, 2, 7,\n",
       "       3, 5, 4, 8, 4, 7, 0, 4, 9, 3, 4, 2, 8, 5, 4, 0, 2, 7, 3, 5, 7, 5,\n",
       "       3, 4, 8, 7, 1, 0, 6, 1, 6, 6, 5, 5, 8, 2, 5, 5, 6, 0, 5, 9, 2, 7,\n",
       "       7, 4, 6, 7, 3, 9, 0, 2, 2, 9, 3, 0, 3, 3, 1, 1, 2, 6, 0, 1, 8, 7,\n",
       "       0, 0, 6, 1, 8, 1, 5, 9, 5, 1, 5, 5, 9, 1, 4, 2, 5, 9, 8, 1, 5, 7,\n",
       "       5, 0, 1, 9, 0, 4, 0, 6, 4, 1, 1, 6, 4, 3, 0, 2, 9, 8, 9, 9, 3, 3,\n",
       "       0, 8, 4, 3, 6, 5, 1, 6, 0, 9, 6, 7, 7, 6, 5, 6, 3, 9, 5, 7, 8, 3,\n",
       "       8, 6, 4, 2, 6, 1, 7, 2, 4, 7, 4, 2, 9, 5, 7, 9, 3, 5, 3, 8, 2, 4,\n",
       "       5, 8, 6, 2, 2, 1, 4, 3, 4, 3, 1, 2, 3, 1, 3, 3, 4, 3, 8, 8, 8, 0,\n",
       "       9, 0, 7, 3, 7, 2, 0, 9, 9, 1, 1, 2, 7, 2, 7, 1, 4, 9])"
      ]
     },
     "execution_count": 42,
     "metadata": {},
     "output_type": "execute_result"
    }
   ],
   "source": [
    "%time clf.predict(X_test)"
   ]
  },
  {
   "cell_type": "code",
   "execution_count": 43,
   "metadata": {
    "scrolled": true
   },
   "outputs": [
    {
     "name": "stdout",
     "output_type": "stream",
     "text": [
      "Wall time: 1min\n"
     ]
    },
    {
     "data": {
      "text/plain": [
       "array([8, 3, 1, 3, 7, 6, 9, 7, 8, 8, 7, 8, 3, 7, 7, 4, 0, 6, 6, 6, 3, 4,\n",
       "       3, 8, 1, 4, 7, 2, 3, 8, 2, 8, 4, 4, 4, 0, 0, 2, 6, 0, 1, 2, 3, 7,\n",
       "       7, 9, 4, 9, 3, 6, 1, 9, 0, 5, 3, 1, 9, 6, 0, 0, 9, 5, 0, 3, 7, 9,\n",
       "       8, 4, 2, 7, 0, 0, 5, 1, 5, 0, 9, 8, 8, 2, 6, 7, 1, 5, 7, 1, 5, 0,\n",
       "       4, 8, 9, 7, 7, 9, 2, 3, 6, 1, 0, 8, 1, 7, 2, 0, 7, 8, 9, 4, 8, 5,\n",
       "       7, 7, 0, 7, 1, 3, 9, 8, 3, 1, 5, 1, 1, 6, 8, 7, 2, 4, 9, 9, 8, 0,\n",
       "       8, 6, 2, 8, 6, 5, 1, 4, 9, 5, 0, 7, 5, 1, 0, 6, 8, 6, 2, 3, 3, 4,\n",
       "       0, 1, 9, 0, 4, 0, 6, 1, 0, 3, 3, 3, 2, 4, 1, 3, 7, 6, 9, 4, 4, 7,\n",
       "       1, 6, 4, 9, 7, 3, 8, 6, 1, 2, 5, 5, 5, 3, 3, 2, 2, 1, 1, 6, 6, 1,\n",
       "       5, 0, 9, 8, 0, 4, 1, 6, 7, 3, 3, 4, 2, 0, 1, 0, 1, 5, 9, 7, 8, 4,\n",
       "       0, 4, 2, 5, 5, 6, 6, 3, 1, 6, 4, 1, 0, 8, 1, 0, 5, 0, 7, 0, 1, 3,\n",
       "       3, 2, 6, 1, 3, 3, 8, 2, 6, 6, 7, 2, 7, 7, 3, 4, 8, 1, 4, 1, 3, 5,\n",
       "       9, 0, 0, 7, 9, 1, 7, 8, 5, 4, 5, 1, 9, 8, 2, 9, 4, 7, 9, 1, 0, 0,\n",
       "       9, 2, 3, 1, 0, 6, 2, 3, 5, 2, 6, 2, 2, 5, 4, 6, 1, 8, 0, 9, 6, 2,\n",
       "       2, 3, 5, 8, 0, 7, 1, 2, 0, 1, 2, 8, 6, 7, 9, 1, 6, 9, 4, 2, 3, 9,\n",
       "       2, 8, 9, 7, 7, 6, 9, 6, 4, 1, 5, 9, 8, 7, 7, 5, 3, 9, 4, 2, 8, 6,\n",
       "       1, 2, 4, 9, 1, 1, 3, 5, 9, 7, 2, 5, 0, 1, 0, 2, 9, 1, 4, 5, 9, 2,\n",
       "       8, 0, 2, 8, 1, 6, 8, 3, 1, 0, 1, 6, 3, 7, 7, 3, 6, 5, 2, 1, 2, 6,\n",
       "       3, 7, 9, 1, 2, 0, 5, 0, 4, 9, 6, 6, 2, 1, 4, 8, 8, 5, 6, 7, 7, 6,\n",
       "       2, 0, 0, 2, 5, 0, 6, 6, 4, 7, 4, 4, 5, 8, 5, 7, 9, 3, 4, 7, 6, 8,\n",
       "       9, 9, 7, 3, 7, 1, 9, 0, 2, 4, 1, 5, 3, 5, 0, 1, 8, 1, 3, 7, 4, 8,\n",
       "       3, 0, 6, 1, 2, 4, 4, 5, 4, 8, 4, 2, 0, 5, 5, 6, 7, 7, 3, 3, 1, 1,\n",
       "       0, 7, 4, 8, 4, 1, 2, 9, 8, 4, 4, 2, 2, 4, 6, 7, 4, 6, 6, 8, 2, 7,\n",
       "       3, 5, 4, 8, 4, 7, 0, 4, 9, 3, 4, 2, 8, 5, 4, 0, 2, 7, 3, 5, 7, 5,\n",
       "       3, 4, 8, 7, 1, 0, 6, 1, 6, 6, 5, 5, 8, 2, 5, 5, 6, 0, 5, 9, 2, 7,\n",
       "       7, 4, 6, 7, 3, 9, 0, 2, 2, 9, 3, 0, 3, 3, 1, 1, 2, 6, 0, 1, 8, 7,\n",
       "       0, 0, 6, 1, 8, 1, 5, 9, 5, 1, 5, 5, 9, 1, 4, 2, 5, 9, 8, 1, 5, 7,\n",
       "       5, 0, 1, 9, 0, 4, 0, 6, 4, 1, 1, 6, 4, 3, 0, 2, 9, 8, 9, 9, 3, 3,\n",
       "       0, 8, 4, 3, 6, 5, 1, 6, 0, 9, 6, 7, 7, 6, 5, 6, 3, 9, 5, 7, 8, 3,\n",
       "       8, 6, 4, 2, 6, 1, 7, 2, 4, 7, 4, 2, 9, 5, 7, 9, 3, 5, 3, 8, 2, 4,\n",
       "       5, 8, 6, 2, 2, 1, 4, 3, 4, 3, 1, 2, 3, 1, 3, 3, 4, 3, 8, 8, 8, 0,\n",
       "       9, 0, 7, 3, 7, 2, 0, 9, 9, 1, 1, 2, 7, 2, 7, 1, 4, 9], dtype=int64)"
      ]
     },
     "execution_count": 43,
     "metadata": {},
     "output_type": "execute_result"
    }
   ],
   "source": [
    "%time my_clf.predict(X_test)"
   ]
  },
  {
   "cell_type": "code",
   "execution_count": 44,
   "metadata": {},
   "outputs": [
    {
     "name": "stdout",
     "output_type": "stream",
     "text": [
      "Wall time: 1min 2s\n"
     ]
    },
    {
     "data": {
      "text/plain": [
       "array([[0., 0., 0., ..., 0., 1., 0.],\n",
       "       [0., 0., 0., ..., 0., 0., 0.],\n",
       "       [0., 1., 0., ..., 0., 0., 0.],\n",
       "       ...,\n",
       "       [0., 1., 0., ..., 0., 0., 0.],\n",
       "       [0., 0., 0., ..., 0., 0., 0.],\n",
       "       [0., 0., 0., ..., 0., 0., 1.]])"
      ]
     },
     "execution_count": 44,
     "metadata": {},
     "output_type": "execute_result"
    }
   ],
   "source": [
    "%time clf.predict_proba(X_test)"
   ]
  },
  {
   "cell_type": "code",
   "execution_count": 45,
   "metadata": {},
   "outputs": [
    {
     "name": "stdout",
     "output_type": "stream",
     "text": [
      "Wall time: 1min 6s\n"
     ]
    },
    {
     "data": {
      "text/plain": [
       "array([[0., 0., 0., ..., 0., 1., 0.],\n",
       "       [0., 0., 0., ..., 0., 0., 0.],\n",
       "       [0., 1., 0., ..., 0., 0., 0.],\n",
       "       ...,\n",
       "       [0., 1., 0., ..., 0., 0., 0.],\n",
       "       [0., 0., 0., ..., 0., 0., 0.],\n",
       "       [0., 0., 0., ..., 0., 0., 1.]])"
      ]
     },
     "execution_count": 45,
     "metadata": {},
     "output_type": "execute_result"
    }
   ],
   "source": [
    "%time my_clf.predict_proba(X_test)"
   ]
  },
  {
   "cell_type": "code",
   "execution_count": 46,
   "metadata": {},
   "outputs": [
    {
     "data": {
      "text/plain": [
       "0.9728571428571429"
      ]
     },
     "execution_count": 46,
     "metadata": {},
     "output_type": "execute_result"
    }
   ],
   "source": [
    "clf.score(X_test, y_test)"
   ]
  },
  {
   "cell_type": "code",
   "execution_count": 47,
   "metadata": {},
   "outputs": [
    {
     "data": {
      "text/plain": [
       "0.9728571428571429"
      ]
     },
     "execution_count": 47,
     "metadata": {},
     "output_type": "execute_result"
    }
   ],
   "source": [
    "my_clf.score(X_test, y_test)"
   ]
  },
  {
   "cell_type": "markdown",
   "metadata": {},
   "source": [
    "Задание 5"
   ]
  },
  {
   "cell_type": "code",
   "execution_count": 36,
   "metadata": {},
   "outputs": [],
   "source": [
    "# seaborn - визализация данных(основан на matplotlib)\n",
    "# matplotlib - создание графиков(визуализация данных)\n",
    "# train_test_split - разделение данных на обучающую часть и тесты\n",
    "# Pipelin%load_ext e (from sklearn.pipeline import Pipeline) конвейер преобразований оканчивающийся оценочной функцией\n",
    "# StandardScaler (from sklearn.preprocessing import StandardScaler) - предобработка данных, сдвигая их \n",
    "# на средние значение и масштабирование (деление на дисперсию)\n",
    "# ClassifierMixin - общий класс для всех классификаторов\n",
    "# NeighborsBase - базовый класс для всех KNN\n",
    "# KNeighborsMixin - базовый класс для поиска K соседей\n",
    "# SupervisedIntegerMixin - класс для проверки типа входных данных и последующему обучению им модели"
   ]
  }
 ],
 "metadata": {
  "kernelspec": {
   "display_name": "Python 3",
   "language": "python",
   "name": "python3"
  },
  "language_info": {
   "codemirror_mode": {
    "name": "ipython",
    "version": 3
   },
   "file_extension": ".py",
   "mimetype": "text/x-python",
   "name": "python",
   "nbconvert_exporter": "python",
   "pygments_lexer": "ipython3",
   "version": "3.6.7"
  }
 },
 "nbformat": 4,
 "nbformat_minor": 2
}
